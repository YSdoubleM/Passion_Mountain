{
 "cells": [
  {
   "cell_type": "code",
   "execution_count": 43,
   "id": "7a9f2195",
   "metadata": {},
   "outputs": [],
   "source": [
    "import pandas as pd\n",
    "import numpy as np\n",
    "import seaborn as sns\n",
    "import matplotlib.pyplot as plt\n",
    "from matplotlib import rc\n",
    "import seaborn as sns"
   ]
  },
  {
   "cell_type": "code",
   "execution_count": 21,
   "id": "35cac09a",
   "metadata": {},
   "outputs": [],
   "source": [
    "GMT = pd.read_csv('../data/Proj/UseData/Crawled_Unique_MTs.csv', encoding='cp949')\n",
    "BMT = pd.read_csv('../data/Proj/UseData/Crawled_Unique_BMTs.csv', encoding='cp949')\n",
    "list_100 = pd.read_csv('../data/Proj/UseData/100_name_list.csv')\n",
    "plus_100 = pd.read_csv('../data/Proj/UseData/100_plus_list.csv')"
   ]
  },
  {
   "cell_type": "code",
   "execution_count": 22,
   "id": "f3364cbc",
   "metadata": {},
   "outputs": [
    {
     "data": {
      "text/html": [
       "<div>\n",
       "<style scoped>\n",
       "    .dataframe tbody tr th:only-of-type {\n",
       "        vertical-align: middle;\n",
       "    }\n",
       "\n",
       "    .dataframe tbody tr th {\n",
       "        vertical-align: top;\n",
       "    }\n",
       "\n",
       "    .dataframe thead th {\n",
       "        text-align: right;\n",
       "    }\n",
       "</style>\n",
       "<table border=\"1\" class=\"dataframe\">\n",
       "  <thead>\n",
       "    <tr style=\"text-align: right;\">\n",
       "      <th></th>\n",
       "      <th>name</th>\n",
       "    </tr>\n",
       "  </thead>\n",
       "  <tbody>\n",
       "    <tr>\n",
       "      <th>0</th>\n",
       "      <td>승학산</td>\n",
       "    </tr>\n",
       "    <tr>\n",
       "      <th>1</th>\n",
       "      <td>장산</td>\n",
       "    </tr>\n",
       "    <tr>\n",
       "      <th>2</th>\n",
       "      <td>고려산</td>\n",
       "    </tr>\n",
       "    <tr>\n",
       "      <th>3</th>\n",
       "      <td>갑하산</td>\n",
       "    </tr>\n",
       "    <tr>\n",
       "      <th>4</th>\n",
       "      <td>계족산</td>\n",
       "    </tr>\n",
       "    <tr>\n",
       "      <th>...</th>\n",
       "      <td>...</td>\n",
       "    </tr>\n",
       "    <tr>\n",
       "      <th>95</th>\n",
       "      <td>웅석봉</td>\n",
       "    </tr>\n",
       "    <tr>\n",
       "      <th>96</th>\n",
       "      <td>우두산</td>\n",
       "    </tr>\n",
       "    <tr>\n",
       "      <th>97</th>\n",
       "      <td>월봉산</td>\n",
       "    </tr>\n",
       "    <tr>\n",
       "      <th>98</th>\n",
       "      <td>장복산</td>\n",
       "    </tr>\n",
       "    <tr>\n",
       "      <th>99</th>\n",
       "      <td>현성산</td>\n",
       "    </tr>\n",
       "  </tbody>\n",
       "</table>\n",
       "<p>100 rows × 1 columns</p>\n",
       "</div>"
      ],
      "text/plain": [
       "   name\n",
       "0   승학산\n",
       "1    장산\n",
       "2   고려산\n",
       "3   갑하산\n",
       "4   계족산\n",
       "..  ...\n",
       "95  웅석봉\n",
       "96  우두산\n",
       "97  월봉산\n",
       "98  장복산\n",
       "99  현성산\n",
       "\n",
       "[100 rows x 1 columns]"
      ]
     },
     "execution_count": 22,
     "metadata": {},
     "output_type": "execute_result"
    }
   ],
   "source": [
    "plus_100"
   ]
  },
  {
   "cell_type": "code",
   "execution_count": 23,
   "id": "1fdd2ff8",
   "metadata": {},
   "outputs": [],
   "source": [
    "GMT.drop(columns = ['Unnamed: 0', 'Unnamed: 0.1'], axis=1, inplace=True)\n",
    "BMT.drop(columns = ['Unnamed: 0', 'Unnamed: 0.1'], axis=1, inplace=True)\n",
    "list_100.drop(columns = ['Unnamed: 0'], axis=1, inplace=True)"
   ]
  },
  {
   "cell_type": "code",
   "execution_count": 24,
   "id": "1e7d0816",
   "metadata": {},
   "outputs": [],
   "source": [
    "GMT = GMT[GMT['MNTN_HEIGHT'] > 0]\n",
    "BMT = BMT[BMT['MNTN_HEIGHT'] > 0]"
   ]
  },
  {
   "cell_type": "code",
   "execution_count": 25,
   "id": "ad6f0b27",
   "metadata": {},
   "outputs": [],
   "source": [
    "list_100.rename(columns={'0':'name'}, inplace=True)"
   ]
  },
  {
   "cell_type": "code",
   "execution_count": 26,
   "id": "4f3d693a",
   "metadata": {},
   "outputs": [
    {
     "name": "stdout",
     "output_type": "stream",
     "text": [
      "<class 'pandas.core.frame.DataFrame'>\n",
      "Int64Index: 1080 entries, 0 to 1550\n",
      "Data columns (total 11 columns):\n",
      " #   Column       Non-Null Count  Dtype  \n",
      "---  ------       --------------  -----  \n",
      " 0   MNTN_CODE    1080 non-null   int64  \n",
      " 1   MNTN_NM      1080 non-null   object \n",
      " 2   MNTN_LOC     703 non-null    object \n",
      " 3   MNTN_HEIGHT  1080 non-null   int64  \n",
      " 4   ROAD_EASY    1080 non-null   float64\n",
      " 5   ROAD_MID     1080 non-null   float64\n",
      " 6   ROAD_DIFF    1080 non-null   float64\n",
      " 7   ROAD_SUM     1080 non-null   float64\n",
      " 8   MNTN_RES     1080 non-null   object \n",
      " 9   Sel_Cos      1080 non-null   float64\n",
      " 10  Raw_Cos      1080 non-null   float64\n",
      "dtypes: float64(6), int64(2), object(3)\n",
      "memory usage: 101.2+ KB\n"
     ]
    }
   ],
   "source": [
    "GMT.info()"
   ]
  },
  {
   "cell_type": "code",
   "execution_count": 27,
   "id": "1e703b07",
   "metadata": {},
   "outputs": [
    {
     "name": "stdout",
     "output_type": "stream",
     "text": [
      "<class 'pandas.core.frame.DataFrame'>\n",
      "Int64Index: 364 entries, 0 to 659\n",
      "Data columns (total 12 columns):\n",
      " #   Column       Non-Null Count  Dtype  \n",
      "---  ------       --------------  -----  \n",
      " 0   MNTN_CODE    364 non-null    int64  \n",
      " 1   MNTN_NM      364 non-null    object \n",
      " 2   MNTN_LOC     111 non-null    object \n",
      " 3   MNTN_HEIGHT  364 non-null    int64  \n",
      " 4   ROAD_EASY    364 non-null    float64\n",
      " 5   ROAD_MID     364 non-null    float64\n",
      " 6   ROAD_DIFF    364 non-null    float64\n",
      " 7   ROAD_SUM     364 non-null    float64\n",
      " 8   MNTN_RES     364 non-null    object \n",
      " 9   Sel_Cos      364 non-null    float64\n",
      " 10  Raw_Cos      364 non-null    float64\n",
      " 11  class        364 non-null    int64  \n",
      "dtypes: float64(6), int64(3), object(3)\n",
      "memory usage: 37.0+ KB\n"
     ]
    }
   ],
   "source": [
    "BMT.info()"
   ]
  },
  {
   "cell_type": "code",
   "execution_count": 28,
   "id": "35a4cf71",
   "metadata": {},
   "outputs": [
    {
     "data": {
      "text/plain": [
       "72"
      ]
     },
     "execution_count": 28,
     "metadata": {},
     "output_type": "execute_result"
    }
   ],
   "source": [
    "cnt = 0\n",
    "for i in range(len(GMT)):\n",
    "    if GMT.iloc[i]['MNTN_NM'] in list(plus_100['name']):\n",
    "        cnt += 1\n",
    "cnt"
   ]
  },
  {
   "cell_type": "code",
   "execution_count": 29,
   "id": "6b83723d",
   "metadata": {},
   "outputs": [],
   "source": [
    "column = list(GMT.columns)\n",
    "goodmn = list(list_100['name'].values)"
   ]
  },
  {
   "cell_type": "code",
   "execution_count": 30,
   "id": "29cee14a",
   "metadata": {},
   "outputs": [],
   "source": [
    "mntn_nm = pd.read_csv('../data/Proj/MT_rname.csv')"
   ]
  },
  {
   "cell_type": "markdown",
   "id": "029e8a39",
   "metadata": {},
   "source": [
    "#### 100대 명산 데이터 프레임"
   ]
  },
  {
   "cell_type": "code",
   "execution_count": 31,
   "id": "0bf77645",
   "metadata": {},
   "outputs": [],
   "source": [
    "GMT_100 = pd.DataFrame(columns = column)"
   ]
  },
  {
   "cell_type": "code",
   "execution_count": 32,
   "id": "3c575a21",
   "metadata": {},
   "outputs": [],
   "source": [
    "for i in range(len(GMT)):\n",
    "    if GMT.iloc[i,1] in goodmn:\n",
    "        GMT_100 = GMT_100.append(pd.DataFrame([list(GMT.iloc[i].values)], columns = column), ignore_index=True)"
   ]
  },
  {
   "cell_type": "code",
   "execution_count": 33,
   "id": "354cb50b",
   "metadata": {
    "scrolled": true
   },
   "outputs": [
    {
     "data": {
      "text/html": [
       "<div>\n",
       "<style scoped>\n",
       "    .dataframe tbody tr th:only-of-type {\n",
       "        vertical-align: middle;\n",
       "    }\n",
       "\n",
       "    .dataframe tbody tr th {\n",
       "        vertical-align: top;\n",
       "    }\n",
       "\n",
       "    .dataframe thead th {\n",
       "        text-align: right;\n",
       "    }\n",
       "</style>\n",
       "<table border=\"1\" class=\"dataframe\">\n",
       "  <thead>\n",
       "    <tr style=\"text-align: right;\">\n",
       "      <th></th>\n",
       "      <th>MNTN_CODE</th>\n",
       "      <th>MNTN_NM</th>\n",
       "      <th>MNTN_LOC</th>\n",
       "      <th>MNTN_HEIGHT</th>\n",
       "      <th>ROAD_EASY</th>\n",
       "      <th>ROAD_MID</th>\n",
       "      <th>ROAD_DIFF</th>\n",
       "      <th>ROAD_SUM</th>\n",
       "      <th>MNTN_RES</th>\n",
       "      <th>Sel_Cos</th>\n",
       "      <th>Raw_Cos</th>\n",
       "    </tr>\n",
       "  </thead>\n",
       "  <tbody>\n",
       "    <tr>\n",
       "      <th>0</th>\n",
       "      <td>487403301</td>\n",
       "      <td>화왕산</td>\n",
       "      <td>경상남도 창녕군 창녕읍 옥천리 일대</td>\n",
       "      <td>758</td>\n",
       "      <td>39.39</td>\n",
       "      <td>1.61</td>\n",
       "      <td>0.0</td>\n",
       "      <td>41.00</td>\n",
       "      <td>&lt;item&gt;&lt;crcmrsghtngetcimageseq&gt;http://www.fores...</td>\n",
       "      <td>0.751809</td>\n",
       "      <td>0.171892</td>\n",
       "    </tr>\n",
       "    <tr>\n",
       "      <th>1</th>\n",
       "      <td>483302101</td>\n",
       "      <td>천성산</td>\n",
       "      <td>경상남도 양산시 하북면, 상북면, 웅상읍</td>\n",
       "      <td>920</td>\n",
       "      <td>178.70</td>\n",
       "      <td>0.43</td>\n",
       "      <td>0.0</td>\n",
       "      <td>179.13</td>\n",
       "      <td>&lt;item&gt;&lt;crcmrsghtngetcimageseq&gt;http://www.fores...</td>\n",
       "      <td>0.859727</td>\n",
       "      <td>0.194907</td>\n",
       "    </tr>\n",
       "    <tr>\n",
       "      <th>2</th>\n",
       "      <td>418204301</td>\n",
       "      <td>화악산</td>\n",
       "      <td>경기도 가평군 북면, 강원도 화천군 사내면</td>\n",
       "      <td>1468</td>\n",
       "      <td>114.34</td>\n",
       "      <td>3.30</td>\n",
       "      <td>0.0</td>\n",
       "      <td>117.64</td>\n",
       "      <td>&lt;item&gt;&lt;crcmrsghtngetcimageseq&gt;http://www.fores...</td>\n",
       "      <td>0.807573</td>\n",
       "      <td>0.175589</td>\n",
       "    </tr>\n",
       "    <tr>\n",
       "      <th>3</th>\n",
       "      <td>437200401</td>\n",
       "      <td>구병산</td>\n",
       "      <td>경상북도 상주시 화남면 평온리, 보은군 마로면 적암리, 외속리면 구병리</td>\n",
       "      <td>877</td>\n",
       "      <td>21.92</td>\n",
       "      <td>0.00</td>\n",
       "      <td>0.0</td>\n",
       "      <td>21.92</td>\n",
       "      <td>&lt;item&gt;&lt;crcmrsghtngetcimageseq&gt;http://www.fores...</td>\n",
       "      <td>0.751809</td>\n",
       "      <td>0.178697</td>\n",
       "    </tr>\n",
       "    <tr>\n",
       "      <th>4</th>\n",
       "      <td>437403801</td>\n",
       "      <td>황악산</td>\n",
       "      <td>경상북도 김천시 대항면 운수리</td>\n",
       "      <td>1111</td>\n",
       "      <td>5.34</td>\n",
       "      <td>0.00</td>\n",
       "      <td>0.0</td>\n",
       "      <td>5.34</td>\n",
       "      <td>&lt;item&gt;&lt;crcmrsghtngetcimageseq&gt;http://www.fores...</td>\n",
       "      <td>0.807573</td>\n",
       "      <td>0.175589</td>\n",
       "    </tr>\n",
       "    <tr>\n",
       "      <th>...</th>\n",
       "      <td>...</td>\n",
       "      <td>...</td>\n",
       "      <td>...</td>\n",
       "      <td>...</td>\n",
       "      <td>...</td>\n",
       "      <td>...</td>\n",
       "      <td>...</td>\n",
       "      <td>...</td>\n",
       "      <td>...</td>\n",
       "      <td>...</td>\n",
       "      <td>...</td>\n",
       "    </tr>\n",
       "    <tr>\n",
       "      <th>72</th>\n",
       "      <td>478202401</td>\n",
       "      <td>운문산</td>\n",
       "      <td>경상남도 밀양</td>\n",
       "      <td>1196</td>\n",
       "      <td>66.52</td>\n",
       "      <td>0.86</td>\n",
       "      <td>0.0</td>\n",
       "      <td>67.38</td>\n",
       "      <td>&lt;item&gt;&lt;crcmrsghtngetcimageseq&gt;http://www.fores...</td>\n",
       "      <td>0.510754</td>\n",
       "      <td>0.137487</td>\n",
       "    </tr>\n",
       "    <tr>\n",
       "      <th>73</th>\n",
       "      <td>416502601</td>\n",
       "      <td>운악산</td>\n",
       "      <td>경기도 가평군 하면, 포천시 화현면</td>\n",
       "      <td>935</td>\n",
       "      <td>20.84</td>\n",
       "      <td>2.35</td>\n",
       "      <td>0.0</td>\n",
       "      <td>23.19</td>\n",
       "      <td>&lt;item&gt;&lt;crcmrsghtngetcimageseq&gt;http://www.fores...</td>\n",
       "      <td>0.807573</td>\n",
       "      <td>0.170283</td>\n",
       "    </tr>\n",
       "    <tr>\n",
       "      <th>74</th>\n",
       "      <td>482704101</td>\n",
       "      <td>재약산</td>\n",
       "      <td>경상남도 밀양시 단장면ㆍ산내면, 울산광역시 울주군 상북면</td>\n",
       "      <td>1119</td>\n",
       "      <td>65.94</td>\n",
       "      <td>1.35</td>\n",
       "      <td>0.0</td>\n",
       "      <td>67.29</td>\n",
       "      <td>&lt;item&gt;&lt;crcmrsghtngetcimageseq&gt;http://www.fores...</td>\n",
       "      <td>0.859727</td>\n",
       "      <td>0.193489</td>\n",
       "    </tr>\n",
       "    <tr>\n",
       "      <th>75</th>\n",
       "      <td>451400201</td>\n",
       "      <td>미륵산</td>\n",
       "      <td>강원도 원주시 귀래면</td>\n",
       "      <td>696</td>\n",
       "      <td>107.34</td>\n",
       "      <td>0.18</td>\n",
       "      <td>0.0</td>\n",
       "      <td>107.52</td>\n",
       "      <td>&lt;item&gt;&lt;crcmrsghtngetcimageseq&gt;http://www.fores...</td>\n",
       "      <td>0.510754</td>\n",
       "      <td>0.110887</td>\n",
       "    </tr>\n",
       "    <tr>\n",
       "      <th>76</th>\n",
       "      <td>416300501</td>\n",
       "      <td>도락산</td>\n",
       "      <td>충청북도 단양군 단성면, 대강면</td>\n",
       "      <td>965</td>\n",
       "      <td>37.86</td>\n",
       "      <td>1.20</td>\n",
       "      <td>0.0</td>\n",
       "      <td>39.06</td>\n",
       "      <td>&lt;item&gt;&lt;crcmrsghtngetcimageseq&gt;http://www.fores...</td>\n",
       "      <td>0.884652</td>\n",
       "      <td>0.164248</td>\n",
       "    </tr>\n",
       "  </tbody>\n",
       "</table>\n",
       "<p>77 rows × 11 columns</p>\n",
       "</div>"
      ],
      "text/plain": [
       "    MNTN_CODE MNTN_NM                                 MNTN_LOC MNTN_HEIGHT  \\\n",
       "0   487403301     화왕산                      경상남도 창녕군 창녕읍 옥천리 일대         758   \n",
       "1   483302101     천성산                   경상남도 양산시 하북면, 상북면, 웅상읍         920   \n",
       "2   418204301     화악산                  경기도 가평군 북면, 강원도 화천군 사내면        1468   \n",
       "3   437200401     구병산  경상북도 상주시 화남면 평온리, 보은군 마로면 적암리, 외속리면 구병리         877   \n",
       "4   437403801     황악산                         경상북도 김천시 대항면 운수리        1111   \n",
       "..        ...     ...                                      ...         ...   \n",
       "72  478202401     운문산                                  경상남도 밀양        1196   \n",
       "73  416502601     운악산                      경기도 가평군 하면, 포천시 화현면         935   \n",
       "74  482704101     재약산          경상남도 밀양시 단장면ㆍ산내면, 울산광역시 울주군 상북면        1119   \n",
       "75  451400201     미륵산                              강원도 원주시 귀래면         696   \n",
       "76  416300501     도락산                        충청북도 단양군 단성면, 대강면         965   \n",
       "\n",
       "    ROAD_EASY  ROAD_MID  ROAD_DIFF  ROAD_SUM  \\\n",
       "0       39.39      1.61        0.0     41.00   \n",
       "1      178.70      0.43        0.0    179.13   \n",
       "2      114.34      3.30        0.0    117.64   \n",
       "3       21.92      0.00        0.0     21.92   \n",
       "4        5.34      0.00        0.0      5.34   \n",
       "..        ...       ...        ...       ...   \n",
       "72      66.52      0.86        0.0     67.38   \n",
       "73      20.84      2.35        0.0     23.19   \n",
       "74      65.94      1.35        0.0     67.29   \n",
       "75     107.34      0.18        0.0    107.52   \n",
       "76      37.86      1.20        0.0     39.06   \n",
       "\n",
       "                                             MNTN_RES   Sel_Cos   Raw_Cos  \n",
       "0   <item><crcmrsghtngetcimageseq>http://www.fores...  0.751809  0.171892  \n",
       "1   <item><crcmrsghtngetcimageseq>http://www.fores...  0.859727  0.194907  \n",
       "2   <item><crcmrsghtngetcimageseq>http://www.fores...  0.807573  0.175589  \n",
       "3   <item><crcmrsghtngetcimageseq>http://www.fores...  0.751809  0.178697  \n",
       "4   <item><crcmrsghtngetcimageseq>http://www.fores...  0.807573  0.175589  \n",
       "..                                                ...       ...       ...  \n",
       "72  <item><crcmrsghtngetcimageseq>http://www.fores...  0.510754  0.137487  \n",
       "73  <item><crcmrsghtngetcimageseq>http://www.fores...  0.807573  0.170283  \n",
       "74  <item><crcmrsghtngetcimageseq>http://www.fores...  0.859727  0.193489  \n",
       "75  <item><crcmrsghtngetcimageseq>http://www.fores...  0.510754  0.110887  \n",
       "76  <item><crcmrsghtngetcimageseq>http://www.fores...  0.884652  0.164248  \n",
       "\n",
       "[77 rows x 11 columns]"
      ]
     },
     "execution_count": 33,
     "metadata": {},
     "output_type": "execute_result"
    }
   ],
   "source": [
    "GMT_100"
   ]
  },
  {
   "cell_type": "code",
   "execution_count": 34,
   "id": "f61aa6e8",
   "metadata": {},
   "outputs": [],
   "source": [
    "GMT_100['class'] = 1"
   ]
  },
  {
   "cell_type": "markdown",
   "id": "07a27a76",
   "metadata": {},
   "source": [
    "#### Train data set"
   ]
  },
  {
   "cell_type": "code",
   "execution_count": 36,
   "id": "0086104c",
   "metadata": {},
   "outputs": [],
   "source": [
    "MT_tr = pd.concat([GMT_100, BMT])"
   ]
  },
  {
   "cell_type": "code",
   "execution_count": 37,
   "id": "8022fdb7",
   "metadata": {},
   "outputs": [
    {
     "name": "stdout",
     "output_type": "stream",
     "text": [
      "<class 'pandas.core.frame.DataFrame'>\n",
      "Int64Index: 441 entries, 0 to 659\n",
      "Data columns (total 12 columns):\n",
      " #   Column       Non-Null Count  Dtype  \n",
      "---  ------       --------------  -----  \n",
      " 0   MNTN_CODE    441 non-null    object \n",
      " 1   MNTN_NM      441 non-null    object \n",
      " 2   MNTN_LOC     187 non-null    object \n",
      " 3   MNTN_HEIGHT  441 non-null    object \n",
      " 4   ROAD_EASY    441 non-null    float64\n",
      " 5   ROAD_MID     441 non-null    float64\n",
      " 6   ROAD_DIFF    441 non-null    float64\n",
      " 7   ROAD_SUM     441 non-null    float64\n",
      " 8   MNTN_RES     441 non-null    object \n",
      " 9   Sel_Cos      441 non-null    float64\n",
      " 10  Raw_Cos      441 non-null    float64\n",
      " 11  class        441 non-null    int64  \n",
      "dtypes: float64(6), int64(1), object(5)\n",
      "memory usage: 44.8+ KB\n"
     ]
    }
   ],
   "source": [
    "MT_tr.info()"
   ]
  },
  {
   "cell_type": "markdown",
   "id": "1533e380",
   "metadata": {},
   "source": [
    "## Train data model training\n",
    "- using feature\n",
    "    ['MNTN_HEIGHT', 'ROAD_EASY', 'ROAD_MID', 'ROAD_DIFF', 'Sel_Cos', 'Raw_Cos', 'class']"
   ]
  },
  {
   "cell_type": "code",
   "execution_count": 39,
   "id": "4e457d2d",
   "metadata": {},
   "outputs": [
    {
     "data": {
      "text/html": [
       "<div>\n",
       "<style scoped>\n",
       "    .dataframe tbody tr th:only-of-type {\n",
       "        vertical-align: middle;\n",
       "    }\n",
       "\n",
       "    .dataframe tbody tr th {\n",
       "        vertical-align: top;\n",
       "    }\n",
       "\n",
       "    .dataframe thead th {\n",
       "        text-align: right;\n",
       "    }\n",
       "</style>\n",
       "<table border=\"1\" class=\"dataframe\">\n",
       "  <thead>\n",
       "    <tr style=\"text-align: right;\">\n",
       "      <th></th>\n",
       "      <th>MNTN_HEIGHT</th>\n",
       "      <th>ROAD_EASY</th>\n",
       "      <th>ROAD_MID</th>\n",
       "      <th>ROAD_DIFF</th>\n",
       "      <th>Sel_Cos</th>\n",
       "      <th>Raw_Cos</th>\n",
       "      <th>class</th>\n",
       "    </tr>\n",
       "  </thead>\n",
       "  <tbody>\n",
       "    <tr>\n",
       "      <th>0</th>\n",
       "      <td>758</td>\n",
       "      <td>39.39</td>\n",
       "      <td>1.61</td>\n",
       "      <td>0.0</td>\n",
       "      <td>0.751809</td>\n",
       "      <td>0.171892</td>\n",
       "      <td>1</td>\n",
       "    </tr>\n",
       "    <tr>\n",
       "      <th>1</th>\n",
       "      <td>920</td>\n",
       "      <td>178.70</td>\n",
       "      <td>0.43</td>\n",
       "      <td>0.0</td>\n",
       "      <td>0.859727</td>\n",
       "      <td>0.194907</td>\n",
       "      <td>1</td>\n",
       "    </tr>\n",
       "    <tr>\n",
       "      <th>2</th>\n",
       "      <td>1468</td>\n",
       "      <td>114.34</td>\n",
       "      <td>3.30</td>\n",
       "      <td>0.0</td>\n",
       "      <td>0.807573</td>\n",
       "      <td>0.175589</td>\n",
       "      <td>1</td>\n",
       "    </tr>\n",
       "    <tr>\n",
       "      <th>3</th>\n",
       "      <td>877</td>\n",
       "      <td>21.92</td>\n",
       "      <td>0.00</td>\n",
       "      <td>0.0</td>\n",
       "      <td>0.751809</td>\n",
       "      <td>0.178697</td>\n",
       "      <td>1</td>\n",
       "    </tr>\n",
       "    <tr>\n",
       "      <th>4</th>\n",
       "      <td>1111</td>\n",
       "      <td>5.34</td>\n",
       "      <td>0.00</td>\n",
       "      <td>0.0</td>\n",
       "      <td>0.807573</td>\n",
       "      <td>0.175589</td>\n",
       "      <td>1</td>\n",
       "    </tr>\n",
       "    <tr>\n",
       "      <th>...</th>\n",
       "      <td>...</td>\n",
       "      <td>...</td>\n",
       "      <td>...</td>\n",
       "      <td>...</td>\n",
       "      <td>...</td>\n",
       "      <td>...</td>\n",
       "      <td>...</td>\n",
       "    </tr>\n",
       "    <tr>\n",
       "      <th>655</th>\n",
       "      <td>127</td>\n",
       "      <td>1.88</td>\n",
       "      <td>0.00</td>\n",
       "      <td>0.0</td>\n",
       "      <td>0.000000</td>\n",
       "      <td>0.000000</td>\n",
       "      <td>0</td>\n",
       "    </tr>\n",
       "    <tr>\n",
       "      <th>656</th>\n",
       "      <td>368</td>\n",
       "      <td>2.16</td>\n",
       "      <td>0.00</td>\n",
       "      <td>0.0</td>\n",
       "      <td>0.000000</td>\n",
       "      <td>0.000000</td>\n",
       "      <td>0</td>\n",
       "    </tr>\n",
       "    <tr>\n",
       "      <th>657</th>\n",
       "      <td>1036</td>\n",
       "      <td>9.78</td>\n",
       "      <td>0.00</td>\n",
       "      <td>0.0</td>\n",
       "      <td>0.551677</td>\n",
       "      <td>0.091880</td>\n",
       "      <td>0</td>\n",
       "    </tr>\n",
       "    <tr>\n",
       "      <th>658</th>\n",
       "      <td>368</td>\n",
       "      <td>4.62</td>\n",
       "      <td>0.00</td>\n",
       "      <td>0.0</td>\n",
       "      <td>0.000000</td>\n",
       "      <td>0.000000</td>\n",
       "      <td>0</td>\n",
       "    </tr>\n",
       "    <tr>\n",
       "      <th>659</th>\n",
       "      <td>1309</td>\n",
       "      <td>8.44</td>\n",
       "      <td>1.31</td>\n",
       "      <td>0.0</td>\n",
       "      <td>0.294884</td>\n",
       "      <td>0.074200</td>\n",
       "      <td>0</td>\n",
       "    </tr>\n",
       "  </tbody>\n",
       "</table>\n",
       "<p>441 rows × 7 columns</p>\n",
       "</div>"
      ],
      "text/plain": [
       "    MNTN_HEIGHT  ROAD_EASY  ROAD_MID  ROAD_DIFF   Sel_Cos   Raw_Cos  class\n",
       "0           758      39.39      1.61        0.0  0.751809  0.171892      1\n",
       "1           920     178.70      0.43        0.0  0.859727  0.194907      1\n",
       "2          1468     114.34      3.30        0.0  0.807573  0.175589      1\n",
       "3           877      21.92      0.00        0.0  0.751809  0.178697      1\n",
       "4          1111       5.34      0.00        0.0  0.807573  0.175589      1\n",
       "..          ...        ...       ...        ...       ...       ...    ...\n",
       "655         127       1.88      0.00        0.0  0.000000  0.000000      0\n",
       "656         368       2.16      0.00        0.0  0.000000  0.000000      0\n",
       "657        1036       9.78      0.00        0.0  0.551677  0.091880      0\n",
       "658         368       4.62      0.00        0.0  0.000000  0.000000      0\n",
       "659        1309       8.44      1.31        0.0  0.294884  0.074200      0\n",
       "\n",
       "[441 rows x 7 columns]"
      ]
     },
     "execution_count": 39,
     "metadata": {},
     "output_type": "execute_result"
    }
   ],
   "source": [
    "MT_train = MT_tr[['MNTN_HEIGHT', 'ROAD_EASY', 'ROAD_MID', 'ROAD_DIFF', 'Sel_Cos', 'Raw_Cos', 'class']]\n",
    "MT_train"
   ]
  },
  {
   "cell_type": "code",
   "execution_count": 40,
   "id": "025038ac",
   "metadata": {},
   "outputs": [],
   "source": [
    "MT_train.to_csv('../data/Proj/UseData/MT_train_z.csv', encoding='utf-8', index=False)"
   ]
  },
  {
   "cell_type": "code",
   "execution_count": 41,
   "id": "5f8609cd",
   "metadata": {},
   "outputs": [
    {
     "data": {
      "text/html": [
       "<div>\n",
       "<style scoped>\n",
       "    .dataframe tbody tr th:only-of-type {\n",
       "        vertical-align: middle;\n",
       "    }\n",
       "\n",
       "    .dataframe tbody tr th {\n",
       "        vertical-align: top;\n",
       "    }\n",
       "\n",
       "    .dataframe thead th {\n",
       "        text-align: right;\n",
       "    }\n",
       "</style>\n",
       "<table border=\"1\" class=\"dataframe\">\n",
       "  <thead>\n",
       "    <tr style=\"text-align: right;\">\n",
       "      <th></th>\n",
       "      <th>MNTN_HEIGHT</th>\n",
       "      <th>ROAD_EASY</th>\n",
       "      <th>ROAD_MID</th>\n",
       "      <th>ROAD_DIFF</th>\n",
       "      <th>Sel_Cos</th>\n",
       "      <th>Raw_Cos</th>\n",
       "      <th>class</th>\n",
       "    </tr>\n",
       "  </thead>\n",
       "  <tbody>\n",
       "    <tr>\n",
       "      <th>0</th>\n",
       "      <td>758</td>\n",
       "      <td>39.39</td>\n",
       "      <td>1.61</td>\n",
       "      <td>0.0</td>\n",
       "      <td>0.751809</td>\n",
       "      <td>0.171892</td>\n",
       "      <td>1</td>\n",
       "    </tr>\n",
       "    <tr>\n",
       "      <th>1</th>\n",
       "      <td>920</td>\n",
       "      <td>178.70</td>\n",
       "      <td>0.43</td>\n",
       "      <td>0.0</td>\n",
       "      <td>0.859727</td>\n",
       "      <td>0.194907</td>\n",
       "      <td>1</td>\n",
       "    </tr>\n",
       "    <tr>\n",
       "      <th>2</th>\n",
       "      <td>1468</td>\n",
       "      <td>114.34</td>\n",
       "      <td>3.30</td>\n",
       "      <td>0.0</td>\n",
       "      <td>0.807573</td>\n",
       "      <td>0.175589</td>\n",
       "      <td>1</td>\n",
       "    </tr>\n",
       "    <tr>\n",
       "      <th>3</th>\n",
       "      <td>877</td>\n",
       "      <td>21.92</td>\n",
       "      <td>0.00</td>\n",
       "      <td>0.0</td>\n",
       "      <td>0.751809</td>\n",
       "      <td>0.178697</td>\n",
       "      <td>1</td>\n",
       "    </tr>\n",
       "    <tr>\n",
       "      <th>4</th>\n",
       "      <td>1111</td>\n",
       "      <td>5.34</td>\n",
       "      <td>0.00</td>\n",
       "      <td>0.0</td>\n",
       "      <td>0.807573</td>\n",
       "      <td>0.175589</td>\n",
       "      <td>1</td>\n",
       "    </tr>\n",
       "    <tr>\n",
       "      <th>...</th>\n",
       "      <td>...</td>\n",
       "      <td>...</td>\n",
       "      <td>...</td>\n",
       "      <td>...</td>\n",
       "      <td>...</td>\n",
       "      <td>...</td>\n",
       "      <td>...</td>\n",
       "    </tr>\n",
       "    <tr>\n",
       "      <th>436</th>\n",
       "      <td>127</td>\n",
       "      <td>1.88</td>\n",
       "      <td>0.00</td>\n",
       "      <td>0.0</td>\n",
       "      <td>0.000000</td>\n",
       "      <td>0.000000</td>\n",
       "      <td>0</td>\n",
       "    </tr>\n",
       "    <tr>\n",
       "      <th>437</th>\n",
       "      <td>368</td>\n",
       "      <td>2.16</td>\n",
       "      <td>0.00</td>\n",
       "      <td>0.0</td>\n",
       "      <td>0.000000</td>\n",
       "      <td>0.000000</td>\n",
       "      <td>0</td>\n",
       "    </tr>\n",
       "    <tr>\n",
       "      <th>438</th>\n",
       "      <td>1036</td>\n",
       "      <td>9.78</td>\n",
       "      <td>0.00</td>\n",
       "      <td>0.0</td>\n",
       "      <td>0.551677</td>\n",
       "      <td>0.091880</td>\n",
       "      <td>0</td>\n",
       "    </tr>\n",
       "    <tr>\n",
       "      <th>439</th>\n",
       "      <td>368</td>\n",
       "      <td>4.62</td>\n",
       "      <td>0.00</td>\n",
       "      <td>0.0</td>\n",
       "      <td>0.000000</td>\n",
       "      <td>0.000000</td>\n",
       "      <td>0</td>\n",
       "    </tr>\n",
       "    <tr>\n",
       "      <th>440</th>\n",
       "      <td>1309</td>\n",
       "      <td>8.44</td>\n",
       "      <td>1.31</td>\n",
       "      <td>0.0</td>\n",
       "      <td>0.294884</td>\n",
       "      <td>0.074200</td>\n",
       "      <td>0</td>\n",
       "    </tr>\n",
       "  </tbody>\n",
       "</table>\n",
       "<p>441 rows × 7 columns</p>\n",
       "</div>"
      ],
      "text/plain": [
       "     MNTN_HEIGHT  ROAD_EASY  ROAD_MID  ROAD_DIFF   Sel_Cos   Raw_Cos  class\n",
       "0            758      39.39      1.61        0.0  0.751809  0.171892      1\n",
       "1            920     178.70      0.43        0.0  0.859727  0.194907      1\n",
       "2           1468     114.34      3.30        0.0  0.807573  0.175589      1\n",
       "3            877      21.92      0.00        0.0  0.751809  0.178697      1\n",
       "4           1111       5.34      0.00        0.0  0.807573  0.175589      1\n",
       "..           ...        ...       ...        ...       ...       ...    ...\n",
       "436          127       1.88      0.00        0.0  0.000000  0.000000      0\n",
       "437          368       2.16      0.00        0.0  0.000000  0.000000      0\n",
       "438         1036       9.78      0.00        0.0  0.551677  0.091880      0\n",
       "439          368       4.62      0.00        0.0  0.000000  0.000000      0\n",
       "440         1309       8.44      1.31        0.0  0.294884  0.074200      0\n",
       "\n",
       "[441 rows x 7 columns]"
      ]
     },
     "execution_count": 41,
     "metadata": {},
     "output_type": "execute_result"
    }
   ],
   "source": [
    "MT_train = pd.read_csv('../data/Proj/UseData/MT_train_z.csv')\n",
    "MT_train"
   ]
  },
  {
   "cell_type": "code",
   "execution_count": 126,
   "id": "c6712579",
   "metadata": {},
   "outputs": [
    {
     "data": {
      "text/html": [
       "<div>\n",
       "<style scoped>\n",
       "    .dataframe tbody tr th:only-of-type {\n",
       "        vertical-align: middle;\n",
       "    }\n",
       "\n",
       "    .dataframe tbody tr th {\n",
       "        vertical-align: top;\n",
       "    }\n",
       "\n",
       "    .dataframe thead th {\n",
       "        text-align: right;\n",
       "    }\n",
       "</style>\n",
       "<table border=\"1\" class=\"dataframe\">\n",
       "  <thead>\n",
       "    <tr style=\"text-align: right;\">\n",
       "      <th></th>\n",
       "      <th>MNTN_HEIGHT</th>\n",
       "      <th>ROAD_EASY</th>\n",
       "      <th>ROAD_MID</th>\n",
       "      <th>ROAD_DIFF</th>\n",
       "      <th>Sel_Cos</th>\n",
       "      <th>Raw_Cos</th>\n",
       "      <th>class</th>\n",
       "    </tr>\n",
       "  </thead>\n",
       "  <tbody>\n",
       "    <tr>\n",
       "      <th>MNTN_HEIGHT</th>\n",
       "      <td>1.000000</td>\n",
       "      <td>0.414664</td>\n",
       "      <td>0.314826</td>\n",
       "      <td>-0.021301</td>\n",
       "      <td>0.674102</td>\n",
       "      <td>0.673965</td>\n",
       "      <td>0.554011</td>\n",
       "    </tr>\n",
       "    <tr>\n",
       "      <th>ROAD_EASY</th>\n",
       "      <td>0.414664</td>\n",
       "      <td>1.000000</td>\n",
       "      <td>0.484171</td>\n",
       "      <td>-0.001590</td>\n",
       "      <td>0.428066</td>\n",
       "      <td>0.455618</td>\n",
       "      <td>0.495437</td>\n",
       "    </tr>\n",
       "    <tr>\n",
       "      <th>ROAD_MID</th>\n",
       "      <td>0.314826</td>\n",
       "      <td>0.484171</td>\n",
       "      <td>1.000000</td>\n",
       "      <td>-0.006579</td>\n",
       "      <td>0.328513</td>\n",
       "      <td>0.346767</td>\n",
       "      <td>0.419043</td>\n",
       "    </tr>\n",
       "    <tr>\n",
       "      <th>ROAD_DIFF</th>\n",
       "      <td>-0.021301</td>\n",
       "      <td>-0.001590</td>\n",
       "      <td>-0.006579</td>\n",
       "      <td>1.000000</td>\n",
       "      <td>-0.036534</td>\n",
       "      <td>-0.040126</td>\n",
       "      <td>-0.019424</td>\n",
       "    </tr>\n",
       "    <tr>\n",
       "      <th>Sel_Cos</th>\n",
       "      <td>0.674102</td>\n",
       "      <td>0.428066</td>\n",
       "      <td>0.328513</td>\n",
       "      <td>-0.036534</td>\n",
       "      <td>1.000000</td>\n",
       "      <td>0.960312</td>\n",
       "      <td>0.792106</td>\n",
       "    </tr>\n",
       "    <tr>\n",
       "      <th>Raw_Cos</th>\n",
       "      <td>0.673965</td>\n",
       "      <td>0.455618</td>\n",
       "      <td>0.346767</td>\n",
       "      <td>-0.040126</td>\n",
       "      <td>0.960312</td>\n",
       "      <td>1.000000</td>\n",
       "      <td>0.765446</td>\n",
       "    </tr>\n",
       "    <tr>\n",
       "      <th>class</th>\n",
       "      <td>0.554011</td>\n",
       "      <td>0.495437</td>\n",
       "      <td>0.419043</td>\n",
       "      <td>-0.019424</td>\n",
       "      <td>0.792106</td>\n",
       "      <td>0.765446</td>\n",
       "      <td>1.000000</td>\n",
       "    </tr>\n",
       "  </tbody>\n",
       "</table>\n",
       "</div>"
      ],
      "text/plain": [
       "             MNTN_HEIGHT  ROAD_EASY  ROAD_MID  ROAD_DIFF   Sel_Cos   Raw_Cos  \\\n",
       "MNTN_HEIGHT     1.000000   0.414664  0.314826  -0.021301  0.674102  0.673965   \n",
       "ROAD_EASY       0.414664   1.000000  0.484171  -0.001590  0.428066  0.455618   \n",
       "ROAD_MID        0.314826   0.484171  1.000000  -0.006579  0.328513  0.346767   \n",
       "ROAD_DIFF      -0.021301  -0.001590 -0.006579   1.000000 -0.036534 -0.040126   \n",
       "Sel_Cos         0.674102   0.428066  0.328513  -0.036534  1.000000  0.960312   \n",
       "Raw_Cos         0.673965   0.455618  0.346767  -0.040126  0.960312  1.000000   \n",
       "class           0.554011   0.495437  0.419043  -0.019424  0.792106  0.765446   \n",
       "\n",
       "                class  \n",
       "MNTN_HEIGHT  0.554011  \n",
       "ROAD_EASY    0.495437  \n",
       "ROAD_MID     0.419043  \n",
       "ROAD_DIFF   -0.019424  \n",
       "Sel_Cos      0.792106  \n",
       "Raw_Cos      0.765446  \n",
       "class        1.000000  "
      ]
     },
     "execution_count": 126,
     "metadata": {},
     "output_type": "execute_result"
    }
   ],
   "source": [
    "MT_train.corr()"
   ]
  },
  {
   "cell_type": "code",
   "execution_count": 130,
   "id": "5828cc0c",
   "metadata": {},
   "outputs": [
    {
     "data": {
      "text/plain": [
       "<AxesSubplot:title={'center':'Correlation of Features'}>"
      ]
     },
     "execution_count": 130,
     "metadata": {},
     "output_type": "execute_result"
    },
    {
     "data": {
      "image/png": "[encoded data removed]",
      "text/plain": [
       "<Figure size 720x576 with 2 Axes>"
      ]
     },
     "metadata": {
      "needs_background": "light"
     },
     "output_type": "display_data"
    }
   ],
   "source": [
    "colormap = plt.cm.YlGn \n",
    "plt.figure(figsize=(10, 8)) \n",
    "plt.title(\"Correlation of Features\", y = 1.05, size = 15) \n",
    "sns.heatmap(MT_train.corr(), linewidths = 0.1, vmax = 1.0, square = True, cmap = colormap, linecolor = \"white\", annot = True, annot_kws = {\"size\" : 10})"
   ]
  },
  {
   "cell_type": "code",
   "execution_count": 45,
   "id": "31c7d2c6",
   "metadata": {},
   "outputs": [
    {
     "data": {
      "image/png": "[encoded data removed]",
      "text/plain": [
       "<Figure size 1008x576 with 1 Axes>"
      ]
     },
     "metadata": {
      "needs_background": "light"
     },
     "output_type": "display_data"
    }
   ],
   "source": [
    "fig = plt.figure(figsize=(14,8))\n",
    "fig.suptitle('Algotrithm Comparison')\n",
    "ax = fig.add_subplot(111)\n",
    "plt.boxplot(MT_train)\n",
    "ax.set_xticklabels(MT_train.columns)\n",
    "plt.show()"
   ]
  },
  {
   "cell_type": "markdown",
   "id": "5e307323",
   "metadata": {},
   "source": [
    "#### label 불균형"
   ]
  },
  {
   "cell_type": "code",
   "execution_count": 137,
   "id": "25e85f35",
   "metadata": {},
   "outputs": [
    {
     "data": {
      "image/png": "[encoded data removed]",
      "text/plain": [
       "<Figure size 432x288 with 1 Axes>"
      ]
     },
     "metadata": {
      "needs_background": "light"
     },
     "output_type": "display_data"
    }
   ],
   "source": [
    "pal = ['#C9C9C9', '#464646']\n",
    "sns.countplot('class', data=MT_train, palette=pal)\n",
    "plt.title('Label Distributions \\n (0: Not Good Mt. || 1: Good Mt.)', fontsize=14)\n",
    "plt.show()"
   ]
  },
  {
   "cell_type": "code",
   "execution_count": 140,
   "id": "92755944",
   "metadata": {},
   "outputs": [
    {
     "data": {
      "text/plain": [
       "((441, 6), (441,))"
      ]
     },
     "execution_count": 140,
     "metadata": {},
     "output_type": "execute_result"
    }
   ],
   "source": [
    "X = MT_train.iloc[:,:-1]\n",
    "y = MT_train.iloc[:,-1]\n",
    "\n",
    "X.shape, y.shape"
   ]
  },
  {
   "cell_type": "code",
   "execution_count": 141,
   "id": "fc50b006",
   "metadata": {},
   "outputs": [
    {
     "data": {
      "text/plain": [
       "((728, 6), (728,))"
      ]
     },
     "execution_count": 141,
     "metadata": {},
     "output_type": "execute_result"
    }
   ],
   "source": [
    "from imblearn.over_sampling import SMOTE\n",
    "\n",
    "smote = SMOTE(random_state=13)\n",
    "re_X, re_y = smote.fit_resample(X, y)\n",
    "re_X.shape, re_y.shape"
   ]
  },
  {
   "cell_type": "code",
   "execution_count": 145,
   "id": "cfcced16",
   "metadata": {},
   "outputs": [],
   "source": [
    "xs = StandardScaler()\n",
    "sc_X = xs.fit_transform(re_X)"
   ]
  },
  {
   "cell_type": "code",
   "execution_count": 146,
   "id": "d3d5033e",
   "metadata": {},
   "outputs": [],
   "source": [
    "from sklearn.model_selection import train_test_split\n",
    "\n",
    "X_train, X_test, y_train, y_test = train_test_split(sc_X, re_y, test_size=0.2, random_state=13)"
   ]
  },
  {
   "cell_type": "markdown",
   "id": "7f4e33a4",
   "metadata": {},
   "source": [
    "#### 성능확인을 위한 함수"
   ]
  },
  {
   "cell_type": "code",
   "execution_count": 51,
   "id": "c13a8a36",
   "metadata": {},
   "outputs": [],
   "source": [
    "def get_result(model, X_train, y_train, X_test, y_test):\n",
    "    model.fit(X_train, y_train)\n",
    "    pred = model.predict(X_test)\n",
    "    \n",
    "    return get_clf_eval(y_test, pred)"
   ]
  },
  {
   "cell_type": "code",
   "execution_count": 52,
   "id": "7284ff67",
   "metadata": {},
   "outputs": [],
   "source": [
    "def get_result_pd(models, model_names, X_train, y_train, X_test, y_test):\n",
    "    col_names = ['accuracy', 'precision', 'recall', 'f1', 'roc_auc']\n",
    "    tmp = []\n",
    "    \n",
    "    for model in models:\n",
    "        tmp.append(get_result(model, X_train, y_train, X_test, y_test))\n",
    "        \n",
    "    return pd.DataFrame(tmp, columns=col_names, index=model_names)"
   ]
  },
  {
   "cell_type": "code",
   "execution_count": 53,
   "id": "9cd4ffde",
   "metadata": {},
   "outputs": [],
   "source": [
    "from sklearn.metrics import (accuracy_score, precision_score, recall_score, f1_score, roc_auc_score)\n",
    "\n",
    "def get_clf_eval(y_test, pred):\n",
    "    acc = accuracy_score(y_test, pred)\n",
    "    pre = precision_score(y_test, pred)\n",
    "    re = recall_score(y_test, pred)\n",
    "    f1 = f1_score(y_test, pred)\n",
    "    auc = roc_auc_score(y_test, pred)\n",
    "    \n",
    "    return acc, pre, re, f1, auc"
   ]
  },
  {
   "cell_type": "code",
   "execution_count": 54,
   "id": "f5fd65ea",
   "metadata": {},
   "outputs": [],
   "source": [
    "from sklearn.metrics import confusion_matrix\n",
    "\n",
    "def print_clf_eval(y_test, pred):\n",
    "    confusion = confusion_matrix(y_test, pred)\n",
    "    acc, pre, re, f1, auc = get_clf_eval(y_test, pred)\n",
    "    \n",
    "    print('=> confusion matrix')\n",
    "    print(confusion)\n",
    "    print('=============')\n",
    "    \n",
    "    print('Accuracy: {0:.4f}, Precision: {1:.4f}'.format(acc, pre))\n",
    "    print('Recall: {0:.4f}, F1: {1:.4f}, AUC:{2:.4f}'.format(re, f1, auc))"
   ]
  },
  {
   "cell_type": "markdown",
   "id": "b69307a2",
   "metadata": {},
   "source": [
    "### 모델 학습"
   ]
  },
  {
   "cell_type": "code",
   "execution_count": 55,
   "id": "b0e5847a",
   "metadata": {},
   "outputs": [],
   "source": [
    "from lightgbm import LGBMClassifier\n",
    "from sklearn.ensemble import RandomForestClassifier\n",
    "from sklearn.tree import DecisionTreeClassifier\n",
    "from sklearn.linear_model import LogisticRegression \n",
    "from sklearn.ensemble import AdaBoostClassifier\n",
    "from sklearn.ensemble import GradientBoostingClassifier \n",
    "from xgboost import XGBClassifier\n",
    "from sklearn.ensemble import BaggingRegressor"
   ]
  },
  {
   "cell_type": "code",
   "execution_count": 56,
   "id": "d4e5b0e6",
   "metadata": {},
   "outputs": [
    {
     "name": "stdout",
     "output_type": "stream",
     "text": [
      "=> confusion matrix\n",
      "[[69  6]\n",
      " [ 0 71]]\n",
      "=============\n",
      "Accuracy: 0.9589, Precision: 0.9221\n",
      "Recall: 1.0000, F1: 0.9595, AUC:0.9600\n"
     ]
    }
   ],
   "source": [
    "from sklearn.linear_model import LogisticRegression\n",
    "\n",
    "lr_clf = LogisticRegression(random_state=13, solver='liblinear')\n",
    "lr_clf.fit(X_train, y_train)\n",
    "lr_pred = lr_clf.predict(X_test)\n",
    "\n",
    "print_clf_eval(y_test, lr_pred)"
   ]
  },
  {
   "cell_type": "code",
   "execution_count": 57,
   "id": "32055514",
   "metadata": {},
   "outputs": [
    {
     "name": "stdout",
     "output_type": "stream",
     "text": [
      "=> confusion matrix\n",
      "[[72  3]\n",
      " [ 0 71]]\n",
      "=============\n",
      "Accuracy: 0.9795, Precision: 0.9595\n",
      "Recall: 1.0000, F1: 0.9793, AUC:0.9800\n"
     ]
    }
   ],
   "source": [
    "from sklearn.tree import DecisionTreeClassifier\n",
    "\n",
    "dt_clf = DecisionTreeClassifier(random_state=13, max_depth=4)\n",
    "dt_clf.fit(X_train, y_train)\n",
    "dt_pred = dt_clf.predict(X_test)\n",
    "\n",
    "print_clf_eval(y_test, dt_pred)"
   ]
  },
  {
   "cell_type": "code",
   "execution_count": 91,
   "id": "ef527617",
   "metadata": {},
   "outputs": [
    {
     "name": "stdout",
     "output_type": "stream",
     "text": [
      "=> confusion matrix\n",
      "[[75  0]\n",
      " [ 0 71]]\n",
      "=============\n",
      "Accuracy: 1.0000, Precision: 1.0000\n",
      "Recall: 1.0000, F1: 1.0000, AUC:1.0000\n"
     ]
    }
   ],
   "source": [
    "from sklearn.ensemble import RandomForestClassifier\n",
    "\n",
    "rf_clf = RandomForestClassifier(random_state=13, n_jobs=-1, n_estimators=100)\n",
    "rf_clf.fit(X_train, y_train)\n",
    "rf_pred = rf_clf.predict(X_test)\n",
    "\n",
    "print_clf_eval(y_test, rf_pred)"
   ]
  },
  {
   "cell_type": "code",
   "execution_count": 147,
   "id": "b85130ee",
   "metadata": {},
   "outputs": [],
   "source": [
    "import numpy as np\n",
    "from sklearn.pipeline import Pipeline\n",
    "from sklearn.preprocessing import MinMaxScaler, StandardScaler, RobustScaler\n",
    "\n",
    "pipe = Pipeline([('clf', RandomForestClassifier())])\n",
    "\n",
    "search_space = [{'clf': [DecisionTreeClassifier()],\n",
    "                 'clf__max_depth': [3, 5, 10],\n",
    "                 'clf__random_state': [10, 13, 15]},\n",
    "                {'clf': [RandomForestClassifier()],\n",
    "                 'clf__n_estimators': [10, 100, 1000],\n",
    "                 'clf__max_depth': [3, 5, 10],\n",
    "                 'clf__random_state': [10, 13, 15]},\n",
    "                {'clf': [AdaBoostClassifier()],\n",
    "                 'clf__n_estimators': [30, 100, 1000],\n",
    "                 'clf__learning_rate': [1.0, 0.5, 0.1],\n",
    "                 'clf__random_state': [10, 13, 15]},\n",
    "                {'clf': [GradientBoostingClassifier()],\n",
    "                 'clf__n_estimators' : [100, 500],\n",
    "                 'clf__learning_rate' : [0.05, 0.1]},\n",
    "                {'clf': [XGBClassifier()],\n",
    "                 'clf__n_estimators': [100, 400],\n",
    "                 'clf__learning_rate': [0.1, 0.3, 0.6],\n",
    "                 'clf__max_depth': [3, 5, 10]}]"
   ]
  },
  {
   "cell_type": "code",
   "execution_count": 148,
   "id": "28e9a869",
   "metadata": {},
   "outputs": [
    {
     "name": "stderr",
     "output_type": "stream",
     "text": [
      "/Users/hongseongmi/miniforge3/envs/ds_study/lib/python3.8/site-packages/xgboost/sklearn.py:1224: UserWarning: The use of label encoder in XGBClassifier is deprecated and will be removed in a future release. To remove this warning, do the following: 1) Pass option use_label_encoder=False when constructing XGBClassifier object; and 2) Encode your labels (y) as integers starting with 0, i.e. 0, 1, 2, ..., [num_class - 1].\n",
      "  warnings.warn(label_encoder_deprecation_msg, UserWarning)\n",
      "/Users/hongseongmi/miniforge3/envs/ds_study/lib/python3.8/site-packages/xgboost/sklearn.py:1224: UserWarning: The use of label encoder in XGBClassifier is deprecated and will be removed in a future release. To remove this warning, do the following: 1) Pass option use_label_encoder=False when constructing XGBClassifier object; and 2) Encode your labels (y) as integers starting with 0, i.e. 0, 1, 2, ..., [num_class - 1].\n",
      "  warnings.warn(label_encoder_deprecation_msg, UserWarning)\n",
      "/Users/hongseongmi/miniforge3/envs/ds_study/lib/python3.8/site-packages/xgboost/sklearn.py:1224: UserWarning: The use of label encoder in XGBClassifier is deprecated and will be removed in a future release. To remove this warning, do the following: 1) Pass option use_label_encoder=False when constructing XGBClassifier object; and 2) Encode your labels (y) as integers starting with 0, i.e. 0, 1, 2, ..., [num_class - 1].\n",
      "  warnings.warn(label_encoder_deprecation_msg, UserWarning)\n",
      "/Users/hongseongmi/miniforge3/envs/ds_study/lib/python3.8/site-packages/xgboost/sklearn.py:1224: UserWarning: The use of label encoder in XGBClassifier is deprecated and will be removed in a future release. To remove this warning, do the following: 1) Pass option use_label_encoder=False when constructing XGBClassifier object; and 2) Encode your labels (y) as integers starting with 0, i.e. 0, 1, 2, ..., [num_class - 1].\n",
      "  warnings.warn(label_encoder_deprecation_msg, UserWarning)\n",
      "/Users/hongseongmi/miniforge3/envs/ds_study/lib/python3.8/site-packages/xgboost/sklearn.py:1224: UserWarning: The use of label encoder in XGBClassifier is deprecated and will be removed in a future release. To remove this warning, do the following: 1) Pass option use_label_encoder=False when constructing XGBClassifier object; and 2) Encode your labels (y) as integers starting with 0, i.e. 0, 1, 2, ..., [num_class - 1].\n",
      "  warnings.warn(label_encoder_deprecation_msg, UserWarning)\n",
      "/Users/hongseongmi/miniforge3/envs/ds_study/lib/python3.8/site-packages/xgboost/sklearn.py:1224: UserWarning: The use of label encoder in XGBClassifier is deprecated and will be removed in a future release. To remove this warning, do the following: 1) Pass option use_label_encoder=False when constructing XGBClassifier object; and 2) Encode your labels (y) as integers starting with 0, i.e. 0, 1, 2, ..., [num_class - 1].\n",
      "  warnings.warn(label_encoder_deprecation_msg, UserWarning)\n"
     ]
    },
    {
     "name": "stdout",
     "output_type": "stream",
     "text": [
      "[00:16:56] WARNING: /Users/runner/miniforge3/conda-bld/xgboost-split_1637426411619/work/src/learner.cc:1115: Starting in XGBoost 1.3.0, the default evaluation metric used with the objective 'binary:logistic' was changed from 'error' to 'logloss'. Explicitly set eval_metric if you'd like to restore the old behavior.\n",
      "[00:16:56] WARNING: /Users/runner/miniforge3/conda-bld/xgboost-split_1637426411619/work/src/learner.cc:1115: Starting in XGBoost 1.3.0, the default evaluation metric used with the objective 'binary:logistic' was changed from 'error' to 'logloss'. Explicitly set eval_metric if you'd like to restore the old behavior.\n",
      "[00:16:56] WARNING: /Users/runner/miniforge3/conda-bld/xgboost-split_1637426411619/work/src/learner.cc:1115: Starting in XGBoost 1.3.0, the default evaluation metric used with the objective 'binary:logistic' was changed from 'error' to 'logloss'. Explicitly set eval_metric if you'd like to restore the old behavior.\n",
      "[00:16:56] WARNING: /Users/runner/miniforge3/conda-bld/xgboost-split_1637426411619/work/src/learner.cc:1115: Starting in XGBoost 1.3.0, the default evaluation metric used with the objective 'binary:logistic' was changed from 'error' to 'logloss'. Explicitly set eval_metric if you'd like to restore the old behavior.\n",
      "[00:16:56] WARNING: /Users/runner/miniforge3/conda-bld/xgboost-split_1637426411619/work/src/learner.cc:1115: Starting in XGBoost 1.3.0, the default evaluation metric used with the objective 'binary:logistic' was changed from 'error' to 'logloss'. Explicitly set eval_metric if you'd like to restore the old behavior.\n",
      "[00:16:56] WARNING: /Users/runner/miniforge3/conda-bld/xgboost-split_1637426411619/work/src/learner.cc:1115: Starting in XGBoost 1.3.0, the default evaluation metric used with the objective 'binary:logistic' was changed from 'error' to 'logloss'. Explicitly set eval_metric if you'd like to restore the old behavior.\n"
     ]
    },
    {
     "name": "stderr",
     "output_type": "stream",
     "text": [
      "/Users/hongseongmi/miniforge3/envs/ds_study/lib/python3.8/site-packages/xgboost/sklearn.py:1224: UserWarning: The use of label encoder in XGBClassifier is deprecated and will be removed in a future release. To remove this warning, do the following: 1) Pass option use_label_encoder=False when constructing XGBClassifier object; and 2) Encode your labels (y) as integers starting with 0, i.e. 0, 1, 2, ..., [num_class - 1].\n",
      "  warnings.warn(label_encoder_deprecation_msg, UserWarning)\n",
      "/Users/hongseongmi/miniforge3/envs/ds_study/lib/python3.8/site-packages/xgboost/sklearn.py:1224: UserWarning: The use of label encoder in XGBClassifier is deprecated and will be removed in a future release. To remove this warning, do the following: 1) Pass option use_label_encoder=False when constructing XGBClassifier object; and 2) Encode your labels (y) as integers starting with 0, i.e. 0, 1, 2, ..., [num_class - 1].\n",
      "  warnings.warn(label_encoder_deprecation_msg, UserWarning)\n",
      "/Users/hongseongmi/miniforge3/envs/ds_study/lib/python3.8/site-packages/xgboost/sklearn.py:1224: UserWarning: The use of label encoder in XGBClassifier is deprecated and will be removed in a future release. To remove this warning, do the following: 1) Pass option use_label_encoder=False when constructing XGBClassifier object; and 2) Encode your labels (y) as integers starting with 0, i.e. 0, 1, 2, ..., [num_class - 1].\n",
      "  warnings.warn(label_encoder_deprecation_msg, UserWarning)\n"
     ]
    },
    {
     "name": "stdout",
     "output_type": "stream",
     "text": [
      "[00:16:56] WARNING: /Users/runner/miniforge3/conda-bld/xgboost-split_1637426411619/work/src/learner.cc:1115: Starting in XGBoost 1.3.0, the default evaluation metric used with the objective 'binary:logistic' was changed from 'error' to 'logloss'. Explicitly set eval_metric if you'd like to restore the old behavior.\n",
      "[00:16:56] WARNING: /Users/runner/miniforge3/conda-bld/xgboost-split_1637426411619/work/src/learner.cc:1115: Starting in XGBoost 1.3.0, the default evaluation metric used with the objective 'binary:logistic' was changed from 'error' to 'logloss'. Explicitly set eval_metric if you'd like to restore the old behavior.\n",
      "[00:16:56] WARNING: /Users/runner/miniforge3/conda-bld/xgboost-split_1637426411619/work/src/learner.cc:1115: Starting in XGBoost 1.3.0, the default evaluation metric used with the objective 'binary:logistic' was changed from 'error' to 'logloss'. Explicitly set eval_metric if you'd like to restore the old behavior.\n"
     ]
    },
    {
     "name": "stderr",
     "output_type": "stream",
     "text": [
      "/Users/hongseongmi/miniforge3/envs/ds_study/lib/python3.8/site-packages/xgboost/sklearn.py:1224: UserWarning: The use of label encoder in XGBClassifier is deprecated and will be removed in a future release. To remove this warning, do the following: 1) Pass option use_label_encoder=False when constructing XGBClassifier object; and 2) Encode your labels (y) as integers starting with 0, i.e. 0, 1, 2, ..., [num_class - 1].\n",
      "  warnings.warn(label_encoder_deprecation_msg, UserWarning)\n",
      "/Users/hongseongmi/miniforge3/envs/ds_study/lib/python3.8/site-packages/xgboost/sklearn.py:1224: UserWarning: The use of label encoder in XGBClassifier is deprecated and will be removed in a future release. To remove this warning, do the following: 1) Pass option use_label_encoder=False when constructing XGBClassifier object; and 2) Encode your labels (y) as integers starting with 0, i.e. 0, 1, 2, ..., [num_class - 1].\n",
      "  warnings.warn(label_encoder_deprecation_msg, UserWarning)\n",
      "/Users/hongseongmi/miniforge3/envs/ds_study/lib/python3.8/site-packages/xgboost/sklearn.py:1224: UserWarning: The use of label encoder in XGBClassifier is deprecated and will be removed in a future release. To remove this warning, do the following: 1) Pass option use_label_encoder=False when constructing XGBClassifier object; and 2) Encode your labels (y) as integers starting with 0, i.e. 0, 1, 2, ..., [num_class - 1].\n",
      "  warnings.warn(label_encoder_deprecation_msg, UserWarning)\n"
     ]
    },
    {
     "name": "stdout",
     "output_type": "stream",
     "text": [
      "[00:16:56] WARNING: /Users/runner/miniforge3/conda-bld/xgboost-split_1637426411619/work/src/learner.cc:1115: Starting in XGBoost 1.3.0, the default evaluation metric used with the objective 'binary:logistic' was changed from 'error' to 'logloss'. Explicitly set eval_metric if you'd like to restore the old behavior.\n",
      "[00:16:57] WARNING: /Users/runner/miniforge3/conda-bld/xgboost-split_1637426411619/work/src/learner.cc:1115: Starting in XGBoost 1.3.0, the default evaluation metric used with the objective 'binary:logistic' was changed from 'error' to 'logloss'. Explicitly set eval_metric if you'd like to restore the old behavior.\n",
      "[00:16:57] WARNING: /Users/runner/miniforge3/conda-bld/xgboost-split_1637426411619/work/src/learner.cc:1115: Starting in XGBoost 1.3.0, the default evaluation metric used with the objective 'binary:logistic' was changed from 'error' to 'logloss'. Explicitly set eval_metric if you'd like to restore the old behavior.\n"
     ]
    },
    {
     "name": "stderr",
     "output_type": "stream",
     "text": [
      "/Users/hongseongmi/miniforge3/envs/ds_study/lib/python3.8/site-packages/xgboost/sklearn.py:1224: UserWarning: The use of label encoder in XGBClassifier is deprecated and will be removed in a future release. To remove this warning, do the following: 1) Pass option use_label_encoder=False when constructing XGBClassifier object; and 2) Encode your labels (y) as integers starting with 0, i.e. 0, 1, 2, ..., [num_class - 1].\n",
      "  warnings.warn(label_encoder_deprecation_msg, UserWarning)\n",
      "/Users/hongseongmi/miniforge3/envs/ds_study/lib/python3.8/site-packages/xgboost/sklearn.py:1224: UserWarning: The use of label encoder in XGBClassifier is deprecated and will be removed in a future release. To remove this warning, do the following: 1) Pass option use_label_encoder=False when constructing XGBClassifier object; and 2) Encode your labels (y) as integers starting with 0, i.e. 0, 1, 2, ..., [num_class - 1].\n",
      "  warnings.warn(label_encoder_deprecation_msg, UserWarning)\n",
      "/Users/hongseongmi/miniforge3/envs/ds_study/lib/python3.8/site-packages/xgboost/sklearn.py:1224: UserWarning: The use of label encoder in XGBClassifier is deprecated and will be removed in a future release. To remove this warning, do the following: 1) Pass option use_label_encoder=False when constructing XGBClassifier object; and 2) Encode your labels (y) as integers starting with 0, i.e. 0, 1, 2, ..., [num_class - 1].\n",
      "  warnings.warn(label_encoder_deprecation_msg, UserWarning)\n",
      "/Users/hongseongmi/miniforge3/envs/ds_study/lib/python3.8/site-packages/xgboost/sklearn.py:1224: UserWarning: The use of label encoder in XGBClassifier is deprecated and will be removed in a future release. To remove this warning, do the following: 1) Pass option use_label_encoder=False when constructing XGBClassifier object; and 2) Encode your labels (y) as integers starting with 0, i.e. 0, 1, 2, ..., [num_class - 1].\n",
      "  warnings.warn(label_encoder_deprecation_msg, UserWarning)\n",
      "/Users/hongseongmi/miniforge3/envs/ds_study/lib/python3.8/site-packages/xgboost/sklearn.py:1224: UserWarning: The use of label encoder in XGBClassifier is deprecated and will be removed in a future release. To remove this warning, do the following: 1) Pass option use_label_encoder=False when constructing XGBClassifier object; and 2) Encode your labels (y) as integers starting with 0, i.e. 0, 1, 2, ..., [num_class - 1].\n",
      "  warnings.warn(label_encoder_deprecation_msg, UserWarning)\n"
     ]
    },
    {
     "name": "stdout",
     "output_type": "stream",
     "text": [
      "[00:16:57] WARNING: /Users/runner/miniforge3/conda-bld/xgboost-split_1637426411619/work/src/learner.cc:1115: Starting in XGBoost 1.3.0, the default evaluation metric used with the objective 'binary:logistic' was changed from 'error' to 'logloss'. Explicitly set eval_metric if you'd like to restore the old behavior.\n",
      "[00:16:57] WARNING: /Users/runner/miniforge3/conda-bld/xgboost-split_1637426411619/work/src/learner.cc:1115: Starting in XGBoost 1.3.0, the default evaluation metric used with the objective 'binary:logistic' was changed from 'error' to 'logloss'. Explicitly set eval_metric if you'd like to restore the old behavior.\n",
      "[00:16:57] WARNING: /Users/runner/miniforge3/conda-bld/xgboost-split_1637426411619/work/src/learner.cc:1115: Starting in XGBoost 1.3.0, the default evaluation metric used with the objective 'binary:logistic' was changed from 'error' to 'logloss'. Explicitly set eval_metric if you'd like to restore the old behavior.\n",
      "[00:16:57] WARNING: /Users/runner/miniforge3/conda-bld/xgboost-split_1637426411619/work/src/learner.cc:1115: Starting in XGBoost 1.3.0, the default evaluation metric used with the objective 'binary:logistic' was changed from 'error' to 'logloss'. Explicitly set eval_metric if you'd like to restore the old behavior.\n",
      "[00:16:57] WARNING: /Users/runner/miniforge3/conda-bld/xgboost-split_1637426411619/work/src/learner.cc:1115: Starting in XGBoost 1.3.0, the default evaluation metric used with the objective 'binary:logistic' was changed from 'error' to 'logloss'. Explicitly set eval_metric if you'd like to restore the old behavior.\n"
     ]
    },
    {
     "name": "stderr",
     "output_type": "stream",
     "text": [
      "/Users/hongseongmi/miniforge3/envs/ds_study/lib/python3.8/site-packages/xgboost/sklearn.py:1224: UserWarning: The use of label encoder in XGBClassifier is deprecated and will be removed in a future release. To remove this warning, do the following: 1) Pass option use_label_encoder=False when constructing XGBClassifier object; and 2) Encode your labels (y) as integers starting with 0, i.e. 0, 1, 2, ..., [num_class - 1].\n",
      "  warnings.warn(label_encoder_deprecation_msg, UserWarning)\n",
      "/Users/hongseongmi/miniforge3/envs/ds_study/lib/python3.8/site-packages/xgboost/sklearn.py:1224: UserWarning: The use of label encoder in XGBClassifier is deprecated and will be removed in a future release. To remove this warning, do the following: 1) Pass option use_label_encoder=False when constructing XGBClassifier object; and 2) Encode your labels (y) as integers starting with 0, i.e. 0, 1, 2, ..., [num_class - 1].\n",
      "  warnings.warn(label_encoder_deprecation_msg, UserWarning)\n",
      "/Users/hongseongmi/miniforge3/envs/ds_study/lib/python3.8/site-packages/xgboost/sklearn.py:1224: UserWarning: The use of label encoder in XGBClassifier is deprecated and will be removed in a future release. To remove this warning, do the following: 1) Pass option use_label_encoder=False when constructing XGBClassifier object; and 2) Encode your labels (y) as integers starting with 0, i.e. 0, 1, 2, ..., [num_class - 1].\n",
      "  warnings.warn(label_encoder_deprecation_msg, UserWarning)\n"
     ]
    },
    {
     "name": "stdout",
     "output_type": "stream",
     "text": [
      "[00:16:57] WARNING: /Users/runner/miniforge3/conda-bld/xgboost-split_1637426411619/work/src/learner.cc:1115: Starting in XGBoost 1.3.0, the default evaluation metric used with the objective 'binary:logistic' was changed from 'error' to 'logloss'. Explicitly set eval_metric if you'd like to restore the old behavior.\n",
      "[00:16:57] WARNING: /Users/runner/miniforge3/conda-bld/xgboost-split_1637426411619/work/src/learner.cc:1115: Starting in XGBoost 1.3.0, the default evaluation metric used with the objective 'binary:logistic' was changed from 'error' to 'logloss'. Explicitly set eval_metric if you'd like to restore the old behavior.\n",
      "[00:16:57] WARNING: /Users/runner/miniforge3/conda-bld/xgboost-split_1637426411619/work/src/learner.cc:1115: Starting in XGBoost 1.3.0, the default evaluation metric used with the objective 'binary:logistic' was changed from 'error' to 'logloss'. Explicitly set eval_metric if you'd like to restore the old behavior.\n"
     ]
    },
    {
     "name": "stderr",
     "output_type": "stream",
     "text": [
      "/Users/hongseongmi/miniforge3/envs/ds_study/lib/python3.8/site-packages/xgboost/sklearn.py:1224: UserWarning: The use of label encoder in XGBClassifier is deprecated and will be removed in a future release. To remove this warning, do the following: 1) Pass option use_label_encoder=False when constructing XGBClassifier object; and 2) Encode your labels (y) as integers starting with 0, i.e. 0, 1, 2, ..., [num_class - 1].\n",
      "  warnings.warn(label_encoder_deprecation_msg, UserWarning)\n",
      "/Users/hongseongmi/miniforge3/envs/ds_study/lib/python3.8/site-packages/xgboost/sklearn.py:1224: UserWarning: The use of label encoder in XGBClassifier is deprecated and will be removed in a future release. To remove this warning, do the following: 1) Pass option use_label_encoder=False when constructing XGBClassifier object; and 2) Encode your labels (y) as integers starting with 0, i.e. 0, 1, 2, ..., [num_class - 1].\n",
      "  warnings.warn(label_encoder_deprecation_msg, UserWarning)\n",
      "/Users/hongseongmi/miniforge3/envs/ds_study/lib/python3.8/site-packages/xgboost/sklearn.py:1224: UserWarning: The use of label encoder in XGBClassifier is deprecated and will be removed in a future release. To remove this warning, do the following: 1) Pass option use_label_encoder=False when constructing XGBClassifier object; and 2) Encode your labels (y) as integers starting with 0, i.e. 0, 1, 2, ..., [num_class - 1].\n",
      "  warnings.warn(label_encoder_deprecation_msg, UserWarning)\n",
      "/Users/hongseongmi/miniforge3/envs/ds_study/lib/python3.8/site-packages/xgboost/sklearn.py:1224: UserWarning: The use of label encoder in XGBClassifier is deprecated and will be removed in a future release. To remove this warning, do the following: 1) Pass option use_label_encoder=False when constructing XGBClassifier object; and 2) Encode your labels (y) as integers starting with 0, i.e. 0, 1, 2, ..., [num_class - 1].\n",
      "  warnings.warn(label_encoder_deprecation_msg, UserWarning)\n",
      "/Users/hongseongmi/miniforge3/envs/ds_study/lib/python3.8/site-packages/xgboost/sklearn.py:1224: UserWarning: The use of label encoder in XGBClassifier is deprecated and will be removed in a future release. To remove this warning, do the following: 1) Pass option use_label_encoder=False when constructing XGBClassifier object; and 2) Encode your labels (y) as integers starting with 0, i.e. 0, 1, 2, ..., [num_class - 1].\n",
      "  warnings.warn(label_encoder_deprecation_msg, UserWarning)\n",
      "/Users/hongseongmi/miniforge3/envs/ds_study/lib/python3.8/site-packages/xgboost/sklearn.py:1224: UserWarning: The use of label encoder in XGBClassifier is deprecated and will be removed in a future release. To remove this warning, do the following: 1) Pass option use_label_encoder=False when constructing XGBClassifier object; and 2) Encode your labels (y) as integers starting with 0, i.e. 0, 1, 2, ..., [num_class - 1].\n",
      "  warnings.warn(label_encoder_deprecation_msg, UserWarning)\n"
     ]
    },
    {
     "name": "stdout",
     "output_type": "stream",
     "text": [
      "[00:16:57] WARNING: /Users/runner/miniforge3/conda-bld/xgboost-split_1637426411619/work/src/learner.cc:1115: Starting in XGBoost 1.3.0, the default evaluation metric used with the objective 'binary:logistic' was changed from 'error' to 'logloss'. Explicitly set eval_metric if you'd like to restore the old behavior.\n",
      "[00:16:57] WARNING: /Users/runner/miniforge3/conda-bld/xgboost-split_1637426411619/work/src/learner.cc:1115: Starting in XGBoost 1.3.0, the default evaluation metric used with the objective 'binary:logistic' was changed from 'error' to 'logloss'. Explicitly set eval_metric if you'd like to restore the old behavior.\n",
      "[00:16:57] WARNING: /Users/runner/miniforge3/conda-bld/xgboost-split_1637426411619/work/src/learner.cc:1115: Starting in XGBoost 1.3.0, the default evaluation metric used with the objective 'binary:logistic' was changed from 'error' to 'logloss'. Explicitly set eval_metric if you'd like to restore the old behavior.\n",
      "[00:16:57] WARNING: /Users/runner/miniforge3/conda-bld/xgboost-split_1637426411619/work/src/learner.cc:1115: Starting in XGBoost 1.3.0, the default evaluation metric used with the objective 'binary:logistic' was changed from 'error' to 'logloss'. Explicitly set eval_metric if you'd like to restore the old behavior.\n",
      "[00:16:57] WARNING: /Users/runner/miniforge3/conda-bld/xgboost-split_1637426411619/work/src/learner.cc:1115: Starting in XGBoost 1.3.0, the default evaluation metric used with the objective 'binary:logistic' was changed from 'error' to 'logloss'. Explicitly set eval_metric if you'd like to restore the old behavior.\n",
      "[00:16:57] WARNING: /Users/runner/miniforge3/conda-bld/xgboost-split_1637426411619/work/src/learner.cc:1115: Starting in XGBoost 1.3.0, the default evaluation metric used with the objective 'binary:logistic' was changed from 'error' to 'logloss'. Explicitly set eval_metric if you'd like to restore the old behavior.\n"
     ]
    },
    {
     "name": "stderr",
     "output_type": "stream",
     "text": [
      "/Users/hongseongmi/miniforge3/envs/ds_study/lib/python3.8/site-packages/xgboost/sklearn.py:1224: UserWarning: The use of label encoder in XGBClassifier is deprecated and will be removed in a future release. To remove this warning, do the following: 1) Pass option use_label_encoder=False when constructing XGBClassifier object; and 2) Encode your labels (y) as integers starting with 0, i.e. 0, 1, 2, ..., [num_class - 1].\n",
      "  warnings.warn(label_encoder_deprecation_msg, UserWarning)\n",
      "/Users/hongseongmi/miniforge3/envs/ds_study/lib/python3.8/site-packages/xgboost/sklearn.py:1224: UserWarning: The use of label encoder in XGBClassifier is deprecated and will be removed in a future release. To remove this warning, do the following: 1) Pass option use_label_encoder=False when constructing XGBClassifier object; and 2) Encode your labels (y) as integers starting with 0, i.e. 0, 1, 2, ..., [num_class - 1].\n",
      "  warnings.warn(label_encoder_deprecation_msg, UserWarning)\n",
      "/Users/hongseongmi/miniforge3/envs/ds_study/lib/python3.8/site-packages/xgboost/sklearn.py:1224: UserWarning: The use of label encoder in XGBClassifier is deprecated and will be removed in a future release. To remove this warning, do the following: 1) Pass option use_label_encoder=False when constructing XGBClassifier object; and 2) Encode your labels (y) as integers starting with 0, i.e. 0, 1, 2, ..., [num_class - 1].\n",
      "  warnings.warn(label_encoder_deprecation_msg, UserWarning)\n"
     ]
    },
    {
     "name": "stdout",
     "output_type": "stream",
     "text": [
      "[00:16:58] WARNING: /Users/runner/miniforge3/conda-bld/xgboost-split_1637426411619/work/src/learner.cc:1115: Starting in XGBoost 1.3.0, the default evaluation metric used with the objective 'binary:logistic' was changed from 'error' to 'logloss'. Explicitly set eval_metric if you'd like to restore the old behavior.\n",
      "[00:16:58] WARNING: /Users/runner/miniforge3/conda-bld/xgboost-split_1637426411619/work/src/learner.cc:1115: Starting in XGBoost 1.3.0, the default evaluation metric used with the objective 'binary:logistic' was changed from 'error' to 'logloss'. Explicitly set eval_metric if you'd like to restore the old behavior.\n",
      "[00:16:58] WARNING: /Users/runner/miniforge3/conda-bld/xgboost-split_1637426411619/work/src/learner.cc:1115: Starting in XGBoost 1.3.0, the default evaluation metric used with the objective 'binary:logistic' was changed from 'error' to 'logloss'. Explicitly set eval_metric if you'd like to restore the old behavior.\n"
     ]
    },
    {
     "name": "stderr",
     "output_type": "stream",
     "text": [
      "/Users/hongseongmi/miniforge3/envs/ds_study/lib/python3.8/site-packages/xgboost/sklearn.py:1224: UserWarning: The use of label encoder in XGBClassifier is deprecated and will be removed in a future release. To remove this warning, do the following: 1) Pass option use_label_encoder=False when constructing XGBClassifier object; and 2) Encode your labels (y) as integers starting with 0, i.e. 0, 1, 2, ..., [num_class - 1].\n",
      "  warnings.warn(label_encoder_deprecation_msg, UserWarning)\n",
      "/Users/hongseongmi/miniforge3/envs/ds_study/lib/python3.8/site-packages/xgboost/sklearn.py:1224: UserWarning: The use of label encoder in XGBClassifier is deprecated and will be removed in a future release. To remove this warning, do the following: 1) Pass option use_label_encoder=False when constructing XGBClassifier object; and 2) Encode your labels (y) as integers starting with 0, i.e. 0, 1, 2, ..., [num_class - 1].\n",
      "  warnings.warn(label_encoder_deprecation_msg, UserWarning)\n"
     ]
    },
    {
     "name": "stdout",
     "output_type": "stream",
     "text": [
      "[00:16:58] WARNING: /Users/runner/miniforge3/conda-bld/xgboost-split_1637426411619/work/src/learner.cc:1115: Starting in XGBoost 1.3.0, the default evaluation metric used with the objective 'binary:logistic' was changed from 'error' to 'logloss'. Explicitly set eval_metric if you'd like to restore the old behavior.\n",
      "[00:16:58] WARNING: /Users/runner/miniforge3/conda-bld/xgboost-split_1637426411619/work/src/learner.cc:1115: Starting in XGBoost 1.3.0, the default evaluation metric used with the objective 'binary:logistic' was changed from 'error' to 'logloss'. Explicitly set eval_metric if you'd like to restore the old behavior.\n"
     ]
    },
    {
     "name": "stderr",
     "output_type": "stream",
     "text": [
      "/Users/hongseongmi/miniforge3/envs/ds_study/lib/python3.8/site-packages/xgboost/sklearn.py:1224: UserWarning: The use of label encoder in XGBClassifier is deprecated and will be removed in a future release. To remove this warning, do the following: 1) Pass option use_label_encoder=False when constructing XGBClassifier object; and 2) Encode your labels (y) as integers starting with 0, i.e. 0, 1, 2, ..., [num_class - 1].\n",
      "  warnings.warn(label_encoder_deprecation_msg, UserWarning)\n",
      "/Users/hongseongmi/miniforge3/envs/ds_study/lib/python3.8/site-packages/xgboost/sklearn.py:1224: UserWarning: The use of label encoder in XGBClassifier is deprecated and will be removed in a future release. To remove this warning, do the following: 1) Pass option use_label_encoder=False when constructing XGBClassifier object; and 2) Encode your labels (y) as integers starting with 0, i.e. 0, 1, 2, ..., [num_class - 1].\n",
      "  warnings.warn(label_encoder_deprecation_msg, UserWarning)\n",
      "/Users/hongseongmi/miniforge3/envs/ds_study/lib/python3.8/site-packages/xgboost/sklearn.py:1224: UserWarning: The use of label encoder in XGBClassifier is deprecated and will be removed in a future release. To remove this warning, do the following: 1) Pass option use_label_encoder=False when constructing XGBClassifier object; and 2) Encode your labels (y) as integers starting with 0, i.e. 0, 1, 2, ..., [num_class - 1].\n",
      "  warnings.warn(label_encoder_deprecation_msg, UserWarning)\n",
      "/Users/hongseongmi/miniforge3/envs/ds_study/lib/python3.8/site-packages/xgboost/sklearn.py:1224: UserWarning: The use of label encoder in XGBClassifier is deprecated and will be removed in a future release. To remove this warning, do the following: 1) Pass option use_label_encoder=False when constructing XGBClassifier object; and 2) Encode your labels (y) as integers starting with 0, i.e. 0, 1, 2, ..., [num_class - 1].\n",
      "  warnings.warn(label_encoder_deprecation_msg, UserWarning)\n",
      "/Users/hongseongmi/miniforge3/envs/ds_study/lib/python3.8/site-packages/xgboost/sklearn.py:1224: UserWarning: The use of label encoder in XGBClassifier is deprecated and will be removed in a future release. To remove this warning, do the following: 1) Pass option use_label_encoder=False when constructing XGBClassifier object; and 2) Encode your labels (y) as integers starting with 0, i.e. 0, 1, 2, ..., [num_class - 1].\n",
      "  warnings.warn(label_encoder_deprecation_msg, UserWarning)\n"
     ]
    },
    {
     "name": "stdout",
     "output_type": "stream",
     "text": [
      "[00:16:58] WARNING: /Users/runner/miniforge3/conda-bld/xgboost-split_1637426411619/work/src/learner.cc:1115: Starting in XGBoost 1.3.0, the default evaluation metric used with the objective 'binary:logistic' was changed from 'error' to 'logloss'. Explicitly set eval_metric if you'd like to restore the old behavior.\n",
      "[00:16:58] WARNING: /Users/runner/miniforge3/conda-bld/xgboost-split_1637426411619/work/src/learner.cc:1115: Starting in XGBoost 1.3.0, the default evaluation metric used with the objective 'binary:logistic' was changed from 'error' to 'logloss'. Explicitly set eval_metric if you'd like to restore the old behavior.\n",
      "[00:16:58] WARNING: /Users/runner/miniforge3/conda-bld/xgboost-split_1637426411619/work/src/learner.cc:1115: Starting in XGBoost 1.3.0, the default evaluation metric used with the objective 'binary:logistic' was changed from 'error' to 'logloss'. Explicitly set eval_metric if you'd like to restore the old behavior.\n",
      "[00:16:58] WARNING: /Users/runner/miniforge3/conda-bld/xgboost-split_1637426411619/work/src/learner.cc:1115: Starting in XGBoost 1.3.0, the default evaluation metric used with the objective 'binary:logistic' was changed from 'error' to 'logloss'. Explicitly set eval_metric if you'd like to restore the old behavior.\n",
      "[00:16:58] WARNING: /Users/runner/miniforge3/conda-bld/xgboost-split_1637426411619/work/src/learner.cc:1115: Starting in XGBoost 1.3.0, the default evaluation metric used with the objective 'binary:logistic' was changed from 'error' to 'logloss'. Explicitly set eval_metric if you'd like to restore the old behavior.\n"
     ]
    },
    {
     "name": "stderr",
     "output_type": "stream",
     "text": [
      "/Users/hongseongmi/miniforge3/envs/ds_study/lib/python3.8/site-packages/xgboost/sklearn.py:1224: UserWarning: The use of label encoder in XGBClassifier is deprecated and will be removed in a future release. To remove this warning, do the following: 1) Pass option use_label_encoder=False when constructing XGBClassifier object; and 2) Encode your labels (y) as integers starting with 0, i.e. 0, 1, 2, ..., [num_class - 1].\n",
      "  warnings.warn(label_encoder_deprecation_msg, UserWarning)\n",
      "/Users/hongseongmi/miniforge3/envs/ds_study/lib/python3.8/site-packages/xgboost/sklearn.py:1224: UserWarning: The use of label encoder in XGBClassifier is deprecated and will be removed in a future release. To remove this warning, do the following: 1) Pass option use_label_encoder=False when constructing XGBClassifier object; and 2) Encode your labels (y) as integers starting with 0, i.e. 0, 1, 2, ..., [num_class - 1].\n",
      "  warnings.warn(label_encoder_deprecation_msg, UserWarning)\n"
     ]
    },
    {
     "name": "stdout",
     "output_type": "stream",
     "text": [
      "[00:16:58] WARNING: /Users/runner/miniforge3/conda-bld/xgboost-split_1637426411619/work/src/learner.cc:1115: Starting in XGBoost 1.3.0, the default evaluation metric used with the objective 'binary:logistic' was changed from 'error' to 'logloss'. Explicitly set eval_metric if you'd like to restore the old behavior.\n",
      "[00:16:58] WARNING: /Users/runner/miniforge3/conda-bld/xgboost-split_1637426411619/work/src/learner.cc:1115: Starting in XGBoost 1.3.0, the default evaluation metric used with the objective 'binary:logistic' was changed from 'error' to 'logloss'. Explicitly set eval_metric if you'd like to restore the old behavior.\n"
     ]
    },
    {
     "name": "stderr",
     "output_type": "stream",
     "text": [
      "/Users/hongseongmi/miniforge3/envs/ds_study/lib/python3.8/site-packages/xgboost/sklearn.py:1224: UserWarning: The use of label encoder in XGBClassifier is deprecated and will be removed in a future release. To remove this warning, do the following: 1) Pass option use_label_encoder=False when constructing XGBClassifier object; and 2) Encode your labels (y) as integers starting with 0, i.e. 0, 1, 2, ..., [num_class - 1].\n",
      "  warnings.warn(label_encoder_deprecation_msg, UserWarning)\n",
      "/Users/hongseongmi/miniforge3/envs/ds_study/lib/python3.8/site-packages/xgboost/sklearn.py:1224: UserWarning: The use of label encoder in XGBClassifier is deprecated and will be removed in a future release. To remove this warning, do the following: 1) Pass option use_label_encoder=False when constructing XGBClassifier object; and 2) Encode your labels (y) as integers starting with 0, i.e. 0, 1, 2, ..., [num_class - 1].\n",
      "  warnings.warn(label_encoder_deprecation_msg, UserWarning)\n"
     ]
    },
    {
     "name": "stdout",
     "output_type": "stream",
     "text": [
      "[00:16:59] WARNING: /Users/runner/miniforge3/conda-bld/xgboost-split_1637426411619/work/src/learner.cc:1115: Starting in XGBoost 1.3.0, the default evaluation metric used with the objective 'binary:logistic' was changed from 'error' to 'logloss'. Explicitly set eval_metric if you'd like to restore the old behavior.\n",
      "[00:16:59] WARNING: /Users/runner/miniforge3/conda-bld/xgboost-split_1637426411619/work/src/learner.cc:1115: Starting in XGBoost 1.3.0, the default evaluation metric used with the objective 'binary:logistic' was changed from 'error' to 'logloss'. Explicitly set eval_metric if you'd like to restore the old behavior.\n"
     ]
    },
    {
     "name": "stderr",
     "output_type": "stream",
     "text": [
      "/Users/hongseongmi/miniforge3/envs/ds_study/lib/python3.8/site-packages/xgboost/sklearn.py:1224: UserWarning: The use of label encoder in XGBClassifier is deprecated and will be removed in a future release. To remove this warning, do the following: 1) Pass option use_label_encoder=False when constructing XGBClassifier object; and 2) Encode your labels (y) as integers starting with 0, i.e. 0, 1, 2, ..., [num_class - 1].\n",
      "  warnings.warn(label_encoder_deprecation_msg, UserWarning)\n",
      "/Users/hongseongmi/miniforge3/envs/ds_study/lib/python3.8/site-packages/xgboost/sklearn.py:1224: UserWarning: The use of label encoder in XGBClassifier is deprecated and will be removed in a future release. To remove this warning, do the following: 1) Pass option use_label_encoder=False when constructing XGBClassifier object; and 2) Encode your labels (y) as integers starting with 0, i.e. 0, 1, 2, ..., [num_class - 1].\n",
      "  warnings.warn(label_encoder_deprecation_msg, UserWarning)\n",
      "/Users/hongseongmi/miniforge3/envs/ds_study/lib/python3.8/site-packages/xgboost/sklearn.py:1224: UserWarning: The use of label encoder in XGBClassifier is deprecated and will be removed in a future release. To remove this warning, do the following: 1) Pass option use_label_encoder=False when constructing XGBClassifier object; and 2) Encode your labels (y) as integers starting with 0, i.e. 0, 1, 2, ..., [num_class - 1].\n",
      "  warnings.warn(label_encoder_deprecation_msg, UserWarning)\n",
      "/Users/hongseongmi/miniforge3/envs/ds_study/lib/python3.8/site-packages/xgboost/sklearn.py:1224: UserWarning: The use of label encoder in XGBClassifier is deprecated and will be removed in a future release. To remove this warning, do the following: 1) Pass option use_label_encoder=False when constructing XGBClassifier object; and 2) Encode your labels (y) as integers starting with 0, i.e. 0, 1, 2, ..., [num_class - 1].\n",
      "  warnings.warn(label_encoder_deprecation_msg, UserWarning)\n",
      "/Users/hongseongmi/miniforge3/envs/ds_study/lib/python3.8/site-packages/xgboost/sklearn.py:1224: UserWarning: The use of label encoder in XGBClassifier is deprecated and will be removed in a future release. To remove this warning, do the following: 1) Pass option use_label_encoder=False when constructing XGBClassifier object; and 2) Encode your labels (y) as integers starting with 0, i.e. 0, 1, 2, ..., [num_class - 1].\n",
      "  warnings.warn(label_encoder_deprecation_msg, UserWarning)\n"
     ]
    },
    {
     "name": "stdout",
     "output_type": "stream",
     "text": [
      "[00:16:59] WARNING: /Users/runner/miniforge3/conda-bld/xgboost-split_1637426411619/work/src/learner.cc:1115: Starting in XGBoost 1.3.0, the default evaluation metric used with the objective 'binary:logistic' was changed from 'error' to 'logloss'. Explicitly set eval_metric if you'd like to restore the old behavior.\n",
      "[00:16:59] WARNING: /Users/runner/miniforge3/conda-bld/xgboost-split_1637426411619/work/src/learner.cc:1115: Starting in XGBoost 1.3.0, the default evaluation metric used with the objective 'binary:logistic' was changed from 'error' to 'logloss'. Explicitly set eval_metric if you'd like to restore the old behavior.\n",
      "[00:16:59] WARNING: /Users/runner/miniforge3/conda-bld/xgboost-split_1637426411619/work/src/learner.cc:1115: Starting in XGBoost 1.3.0, the default evaluation metric used with the objective 'binary:logistic' was changed from 'error' to 'logloss'. Explicitly set eval_metric if you'd like to restore the old behavior.\n",
      "[00:16:59] WARNING: /Users/runner/miniforge3/conda-bld/xgboost-split_1637426411619/work/src/learner.cc:1115: Starting in XGBoost 1.3.0, the default evaluation metric used with the objective 'binary:logistic' was changed from 'error' to 'logloss'. Explicitly set eval_metric if you'd like to restore the old behavior.\n",
      "[00:16:59] WARNING: /Users/runner/miniforge3/conda-bld/xgboost-split_1637426411619/work/src/learner.cc:1115: Starting in XGBoost 1.3.0, the default evaluation metric used with the objective 'binary:logistic' was changed from 'error' to 'logloss'. Explicitly set eval_metric if you'd like to restore the old behavior.\n"
     ]
    },
    {
     "name": "stderr",
     "output_type": "stream",
     "text": [
      "/Users/hongseongmi/miniforge3/envs/ds_study/lib/python3.8/site-packages/xgboost/sklearn.py:1224: UserWarning: The use of label encoder in XGBClassifier is deprecated and will be removed in a future release. To remove this warning, do the following: 1) Pass option use_label_encoder=False when constructing XGBClassifier object; and 2) Encode your labels (y) as integers starting with 0, i.e. 0, 1, 2, ..., [num_class - 1].\n",
      "  warnings.warn(label_encoder_deprecation_msg, UserWarning)\n",
      "/Users/hongseongmi/miniforge3/envs/ds_study/lib/python3.8/site-packages/xgboost/sklearn.py:1224: UserWarning: The use of label encoder in XGBClassifier is deprecated and will be removed in a future release. To remove this warning, do the following: 1) Pass option use_label_encoder=False when constructing XGBClassifier object; and 2) Encode your labels (y) as integers starting with 0, i.e. 0, 1, 2, ..., [num_class - 1].\n",
      "  warnings.warn(label_encoder_deprecation_msg, UserWarning)\n"
     ]
    },
    {
     "name": "stdout",
     "output_type": "stream",
     "text": [
      "[00:16:59] WARNING: /Users/runner/miniforge3/conda-bld/xgboost-split_1637426411619/work/src/learner.cc:1115: Starting in XGBoost 1.3.0, the default evaluation metric used with the objective 'binary:logistic' was changed from 'error' to 'logloss'. Explicitly set eval_metric if you'd like to restore the old behavior.\n",
      "[00:16:59] WARNING: /Users/runner/miniforge3/conda-bld/xgboost-split_1637426411619/work/src/learner.cc:1115: Starting in XGBoost 1.3.0, the default evaluation metric used with the objective 'binary:logistic' was changed from 'error' to 'logloss'. Explicitly set eval_metric if you'd like to restore the old behavior.\n"
     ]
    },
    {
     "name": "stderr",
     "output_type": "stream",
     "text": [
      "/Users/hongseongmi/miniforge3/envs/ds_study/lib/python3.8/site-packages/xgboost/sklearn.py:1224: UserWarning: The use of label encoder in XGBClassifier is deprecated and will be removed in a future release. To remove this warning, do the following: 1) Pass option use_label_encoder=False when constructing XGBClassifier object; and 2) Encode your labels (y) as integers starting with 0, i.e. 0, 1, 2, ..., [num_class - 1].\n",
      "  warnings.warn(label_encoder_deprecation_msg, UserWarning)\n",
      "/Users/hongseongmi/miniforge3/envs/ds_study/lib/python3.8/site-packages/xgboost/sklearn.py:1224: UserWarning: The use of label encoder in XGBClassifier is deprecated and will be removed in a future release. To remove this warning, do the following: 1) Pass option use_label_encoder=False when constructing XGBClassifier object; and 2) Encode your labels (y) as integers starting with 0, i.e. 0, 1, 2, ..., [num_class - 1].\n",
      "  warnings.warn(label_encoder_deprecation_msg, UserWarning)\n"
     ]
    },
    {
     "name": "stdout",
     "output_type": "stream",
     "text": [
      "[00:16:59] WARNING: /Users/runner/miniforge3/conda-bld/xgboost-split_1637426411619/work/src/learner.cc:1115: Starting in XGBoost 1.3.0, the default evaluation metric used with the objective 'binary:logistic' was changed from 'error' to 'logloss'. Explicitly set eval_metric if you'd like to restore the old behavior.\n",
      "[00:16:59] WARNING: /Users/runner/miniforge3/conda-bld/xgboost-split_1637426411619/work/src/learner.cc:1115: Starting in XGBoost 1.3.0, the default evaluation metric used with the objective 'binary:logistic' was changed from 'error' to 'logloss'. Explicitly set eval_metric if you'd like to restore the old behavior.\n"
     ]
    },
    {
     "name": "stderr",
     "output_type": "stream",
     "text": [
      "/Users/hongseongmi/miniforge3/envs/ds_study/lib/python3.8/site-packages/xgboost/sklearn.py:1224: UserWarning: The use of label encoder in XGBClassifier is deprecated and will be removed in a future release. To remove this warning, do the following: 1) Pass option use_label_encoder=False when constructing XGBClassifier object; and 2) Encode your labels (y) as integers starting with 0, i.e. 0, 1, 2, ..., [num_class - 1].\n",
      "  warnings.warn(label_encoder_deprecation_msg, UserWarning)\n",
      "/Users/hongseongmi/miniforge3/envs/ds_study/lib/python3.8/site-packages/xgboost/sklearn.py:1224: UserWarning: The use of label encoder in XGBClassifier is deprecated and will be removed in a future release. To remove this warning, do the following: 1) Pass option use_label_encoder=False when constructing XGBClassifier object; and 2) Encode your labels (y) as integers starting with 0, i.e. 0, 1, 2, ..., [num_class - 1].\n",
      "  warnings.warn(label_encoder_deprecation_msg, UserWarning)\n"
     ]
    },
    {
     "name": "stdout",
     "output_type": "stream",
     "text": [
      "[00:17:00] WARNING: /Users/runner/miniforge3/conda-bld/xgboost-split_1637426411619/work/src/learner.cc:1115: Starting in XGBoost 1.3.0, the default evaluation metric used with the objective 'binary:logistic' was changed from 'error' to 'logloss'. Explicitly set eval_metric if you'd like to restore the old behavior.\n",
      "[00:17:00] WARNING: /Users/runner/miniforge3/conda-bld/xgboost-split_1637426411619/work/src/learner.cc:1115: Starting in XGBoost 1.3.0, the default evaluation metric used with the objective 'binary:logistic' was changed from 'error' to 'logloss'. Explicitly set eval_metric if you'd like to restore the old behavior.\n"
     ]
    },
    {
     "name": "stderr",
     "output_type": "stream",
     "text": [
      "/Users/hongseongmi/miniforge3/envs/ds_study/lib/python3.8/site-packages/xgboost/sklearn.py:1224: UserWarning: The use of label encoder in XGBClassifier is deprecated and will be removed in a future release. To remove this warning, do the following: 1) Pass option use_label_encoder=False when constructing XGBClassifier object; and 2) Encode your labels (y) as integers starting with 0, i.e. 0, 1, 2, ..., [num_class - 1].\n",
      "  warnings.warn(label_encoder_deprecation_msg, UserWarning)\n",
      "/Users/hongseongmi/miniforge3/envs/ds_study/lib/python3.8/site-packages/xgboost/sklearn.py:1224: UserWarning: The use of label encoder in XGBClassifier is deprecated and will be removed in a future release. To remove this warning, do the following: 1) Pass option use_label_encoder=False when constructing XGBClassifier object; and 2) Encode your labels (y) as integers starting with 0, i.e. 0, 1, 2, ..., [num_class - 1].\n",
      "  warnings.warn(label_encoder_deprecation_msg, UserWarning)\n",
      "/Users/hongseongmi/miniforge3/envs/ds_study/lib/python3.8/site-packages/xgboost/sklearn.py:1224: UserWarning: The use of label encoder in XGBClassifier is deprecated and will be removed in a future release. To remove this warning, do the following: 1) Pass option use_label_encoder=False when constructing XGBClassifier object; and 2) Encode your labels (y) as integers starting with 0, i.e. 0, 1, 2, ..., [num_class - 1].\n",
      "  warnings.warn(label_encoder_deprecation_msg, UserWarning)\n",
      "/Users/hongseongmi/miniforge3/envs/ds_study/lib/python3.8/site-packages/xgboost/sklearn.py:1224: UserWarning: The use of label encoder in XGBClassifier is deprecated and will be removed in a future release. To remove this warning, do the following: 1) Pass option use_label_encoder=False when constructing XGBClassifier object; and 2) Encode your labels (y) as integers starting with 0, i.e. 0, 1, 2, ..., [num_class - 1].\n",
      "  warnings.warn(label_encoder_deprecation_msg, UserWarning)\n",
      "/Users/hongseongmi/miniforge3/envs/ds_study/lib/python3.8/site-packages/xgboost/sklearn.py:1224: UserWarning: The use of label encoder in XGBClassifier is deprecated and will be removed in a future release. To remove this warning, do the following: 1) Pass option use_label_encoder=False when constructing XGBClassifier object; and 2) Encode your labels (y) as integers starting with 0, i.e. 0, 1, 2, ..., [num_class - 1].\n",
      "  warnings.warn(label_encoder_deprecation_msg, UserWarning)\n"
     ]
    },
    {
     "name": "stdout",
     "output_type": "stream",
     "text": [
      "[00:17:00] WARNING: /Users/runner/miniforge3/conda-bld/xgboost-split_1637426411619/work/src/learner.cc:1115: Starting in XGBoost 1.3.0, the default evaluation metric used with the objective 'binary:logistic' was changed from 'error' to 'logloss'. Explicitly set eval_metric if you'd like to restore the old behavior.\n",
      "[00:17:00] WARNING: /Users/runner/miniforge3/conda-bld/xgboost-split_1637426411619/work/src/learner.cc:1115: Starting in XGBoost 1.3.0, the default evaluation metric used with the objective 'binary:logistic' was changed from 'error' to 'logloss'. Explicitly set eval_metric if you'd like to restore the old behavior.\n",
      "[00:17:00] WARNING: /Users/runner/miniforge3/conda-bld/xgboost-split_1637426411619/work/src/learner.cc:1115: Starting in XGBoost 1.3.0, the default evaluation metric used with the objective 'binary:logistic' was changed from 'error' to 'logloss'. Explicitly set eval_metric if you'd like to restore the old behavior.\n",
      "[00:17:00] WARNING: /Users/runner/miniforge3/conda-bld/xgboost-split_1637426411619/work/src/learner.cc:1115: Starting in XGBoost 1.3.0, the default evaluation metric used with the objective 'binary:logistic' was changed from 'error' to 'logloss'. Explicitly set eval_metric if you'd like to restore the old behavior.\n",
      "[00:17:00] WARNING: /Users/runner/miniforge3/conda-bld/xgboost-split_1637426411619/work/src/learner.cc:1115: Starting in XGBoost 1.3.0, the default evaluation metric used with the objective 'binary:logistic' was changed from 'error' to 'logloss'. Explicitly set eval_metric if you'd like to restore the old behavior.\n"
     ]
    },
    {
     "name": "stderr",
     "output_type": "stream",
     "text": [
      "/Users/hongseongmi/miniforge3/envs/ds_study/lib/python3.8/site-packages/xgboost/sklearn.py:1224: UserWarning: The use of label encoder in XGBClassifier is deprecated and will be removed in a future release. To remove this warning, do the following: 1) Pass option use_label_encoder=False when constructing XGBClassifier object; and 2) Encode your labels (y) as integers starting with 0, i.e. 0, 1, 2, ..., [num_class - 1].\n",
      "  warnings.warn(label_encoder_deprecation_msg, UserWarning)\n",
      "/Users/hongseongmi/miniforge3/envs/ds_study/lib/python3.8/site-packages/xgboost/sklearn.py:1224: UserWarning: The use of label encoder in XGBClassifier is deprecated and will be removed in a future release. To remove this warning, do the following: 1) Pass option use_label_encoder=False when constructing XGBClassifier object; and 2) Encode your labels (y) as integers starting with 0, i.e. 0, 1, 2, ..., [num_class - 1].\n",
      "  warnings.warn(label_encoder_deprecation_msg, UserWarning)\n"
     ]
    },
    {
     "name": "stdout",
     "output_type": "stream",
     "text": [
      "[00:17:00] WARNING: /Users/runner/miniforge3/conda-bld/xgboost-split_1637426411619/work/src/learner.cc:1115: Starting in XGBoost 1.3.0, the default evaluation metric used with the objective 'binary:logistic' was changed from 'error' to 'logloss'. Explicitly set eval_metric if you'd like to restore the old behavior.\n",
      "[00:17:00] WARNING: /Users/runner/miniforge3/conda-bld/xgboost-split_1637426411619/work/src/learner.cc:1115: Starting in XGBoost 1.3.0, the default evaluation metric used with the objective 'binary:logistic' was changed from 'error' to 'logloss'. Explicitly set eval_metric if you'd like to restore the old behavior.\n"
     ]
    },
    {
     "name": "stderr",
     "output_type": "stream",
     "text": [
      "/Users/hongseongmi/miniforge3/envs/ds_study/lib/python3.8/site-packages/xgboost/sklearn.py:1224: UserWarning: The use of label encoder in XGBClassifier is deprecated and will be removed in a future release. To remove this warning, do the following: 1) Pass option use_label_encoder=False when constructing XGBClassifier object; and 2) Encode your labels (y) as integers starting with 0, i.e. 0, 1, 2, ..., [num_class - 1].\n",
      "  warnings.warn(label_encoder_deprecation_msg, UserWarning)\n",
      "/Users/hongseongmi/miniforge3/envs/ds_study/lib/python3.8/site-packages/xgboost/sklearn.py:1224: UserWarning: The use of label encoder in XGBClassifier is deprecated and will be removed in a future release. To remove this warning, do the following: 1) Pass option use_label_encoder=False when constructing XGBClassifier object; and 2) Encode your labels (y) as integers starting with 0, i.e. 0, 1, 2, ..., [num_class - 1].\n",
      "  warnings.warn(label_encoder_deprecation_msg, UserWarning)\n"
     ]
    },
    {
     "name": "stdout",
     "output_type": "stream",
     "text": [
      "[00:17:00] WARNING: /Users/runner/miniforge3/conda-bld/xgboost-split_1637426411619/work/src/learner.cc:1115: Starting in XGBoost 1.3.0, the default evaluation metric used with the objective 'binary:logistic' was changed from 'error' to 'logloss'. Explicitly set eval_metric if you'd like to restore the old behavior.\n",
      "[00:17:01] WARNING: /Users/runner/miniforge3/conda-bld/xgboost-split_1637426411619/work/src/learner.cc:1115: Starting in XGBoost 1.3.0, the default evaluation metric used with the objective 'binary:logistic' was changed from 'error' to 'logloss'. Explicitly set eval_metric if you'd like to restore the old behavior.\n"
     ]
    },
    {
     "name": "stderr",
     "output_type": "stream",
     "text": [
      "/Users/hongseongmi/miniforge3/envs/ds_study/lib/python3.8/site-packages/xgboost/sklearn.py:1224: UserWarning: The use of label encoder in XGBClassifier is deprecated and will be removed in a future release. To remove this warning, do the following: 1) Pass option use_label_encoder=False when constructing XGBClassifier object; and 2) Encode your labels (y) as integers starting with 0, i.e. 0, 1, 2, ..., [num_class - 1].\n",
      "  warnings.warn(label_encoder_deprecation_msg, UserWarning)\n",
      "/Users/hongseongmi/miniforge3/envs/ds_study/lib/python3.8/site-packages/xgboost/sklearn.py:1224: UserWarning: The use of label encoder in XGBClassifier is deprecated and will be removed in a future release. To remove this warning, do the following: 1) Pass option use_label_encoder=False when constructing XGBClassifier object; and 2) Encode your labels (y) as integers starting with 0, i.e. 0, 1, 2, ..., [num_class - 1].\n",
      "  warnings.warn(label_encoder_deprecation_msg, UserWarning)\n",
      "/Users/hongseongmi/miniforge3/envs/ds_study/lib/python3.8/site-packages/xgboost/sklearn.py:1224: UserWarning: The use of label encoder in XGBClassifier is deprecated and will be removed in a future release. To remove this warning, do the following: 1) Pass option use_label_encoder=False when constructing XGBClassifier object; and 2) Encode your labels (y) as integers starting with 0, i.e. 0, 1, 2, ..., [num_class - 1].\n",
      "  warnings.warn(label_encoder_deprecation_msg, UserWarning)\n",
      "/Users/hongseongmi/miniforge3/envs/ds_study/lib/python3.8/site-packages/xgboost/sklearn.py:1224: UserWarning: The use of label encoder in XGBClassifier is deprecated and will be removed in a future release. To remove this warning, do the following: 1) Pass option use_label_encoder=False when constructing XGBClassifier object; and 2) Encode your labels (y) as integers starting with 0, i.e. 0, 1, 2, ..., [num_class - 1].\n",
      "  warnings.warn(label_encoder_deprecation_msg, UserWarning)\n",
      "/Users/hongseongmi/miniforge3/envs/ds_study/lib/python3.8/site-packages/xgboost/sklearn.py:1224: UserWarning: The use of label encoder in XGBClassifier is deprecated and will be removed in a future release. To remove this warning, do the following: 1) Pass option use_label_encoder=False when constructing XGBClassifier object; and 2) Encode your labels (y) as integers starting with 0, i.e. 0, 1, 2, ..., [num_class - 1].\n",
      "  warnings.warn(label_encoder_deprecation_msg, UserWarning)\n",
      "/Users/hongseongmi/miniforge3/envs/ds_study/lib/python3.8/site-packages/xgboost/sklearn.py:1224: UserWarning: The use of label encoder in XGBClassifier is deprecated and will be removed in a future release. To remove this warning, do the following: 1) Pass option use_label_encoder=False when constructing XGBClassifier object; and 2) Encode your labels (y) as integers starting with 0, i.e. 0, 1, 2, ..., [num_class - 1].\n",
      "  warnings.warn(label_encoder_deprecation_msg, UserWarning)\n"
     ]
    },
    {
     "name": "stdout",
     "output_type": "stream",
     "text": [
      "[00:17:01] WARNING: /Users/runner/miniforge3/conda-bld/xgboost-split_1637426411619/work/src/learner.cc:1115: Starting in XGBoost 1.3.0, the default evaluation metric used with the objective 'binary:logistic' was changed from 'error' to 'logloss'. Explicitly set eval_metric if you'd like to restore the old behavior.\n",
      "[00:17:01] WARNING: /Users/runner/miniforge3/conda-bld/xgboost-split_1637426411619/work/src/learner.cc:1115: Starting in XGBoost 1.3.0, the default evaluation metric used with the objective 'binary:logistic' was changed from 'error' to 'logloss'. Explicitly set eval_metric if you'd like to restore the old behavior.\n",
      "[00:17:01] WARNING: /Users/runner/miniforge3/conda-bld/xgboost-split_1637426411619/work/src/learner.cc:1115: Starting in XGBoost 1.3.0, the default evaluation metric used with the objective 'binary:logistic' was changed from 'error' to 'logloss'. Explicitly set eval_metric if you'd like to restore the old behavior.\n",
      "[00:17:01] WARNING: /Users/runner/miniforge3/conda-bld/xgboost-split_1637426411619/work/src/learner.cc:1115: Starting in XGBoost 1.3.0, the default evaluation metric used with the objective 'binary:logistic' was changed from 'error' to 'logloss'. Explicitly set eval_metric if you'd like to restore the old behavior.\n",
      "[00:17:01] WARNING: /Users/runner/miniforge3/conda-bld/xgboost-split_1637426411619/work/src/learner.cc:1115: Starting in XGBoost 1.3.0, the default evaluation metric used with the objective 'binary:logistic' was changed from 'error' to 'logloss'. Explicitly set eval_metric if you'd like to restore the old behavior.\n",
      "[00:17:01] WARNING: /Users/runner/miniforge3/conda-bld/xgboost-split_1637426411619/work/src/learner.cc:1115: Starting in XGBoost 1.3.0, the default evaluation metric used with the objective 'binary:logistic' was changed from 'error' to 'logloss'. Explicitly set eval_metric if you'd like to restore the old behavior.\n"
     ]
    },
    {
     "name": "stderr",
     "output_type": "stream",
     "text": [
      "/Users/hongseongmi/miniforge3/envs/ds_study/lib/python3.8/site-packages/xgboost/sklearn.py:1224: UserWarning: The use of label encoder in XGBClassifier is deprecated and will be removed in a future release. To remove this warning, do the following: 1) Pass option use_label_encoder=False when constructing XGBClassifier object; and 2) Encode your labels (y) as integers starting with 0, i.e. 0, 1, 2, ..., [num_class - 1].\n",
      "  warnings.warn(label_encoder_deprecation_msg, UserWarning)\n",
      "/Users/hongseongmi/miniforge3/envs/ds_study/lib/python3.8/site-packages/xgboost/sklearn.py:1224: UserWarning: The use of label encoder in XGBClassifier is deprecated and will be removed in a future release. To remove this warning, do the following: 1) Pass option use_label_encoder=False when constructing XGBClassifier object; and 2) Encode your labels (y) as integers starting with 0, i.e. 0, 1, 2, ..., [num_class - 1].\n",
      "  warnings.warn(label_encoder_deprecation_msg, UserWarning)\n",
      "/Users/hongseongmi/miniforge3/envs/ds_study/lib/python3.8/site-packages/xgboost/sklearn.py:1224: UserWarning: The use of label encoder in XGBClassifier is deprecated and will be removed in a future release. To remove this warning, do the following: 1) Pass option use_label_encoder=False when constructing XGBClassifier object; and 2) Encode your labels (y) as integers starting with 0, i.e. 0, 1, 2, ..., [num_class - 1].\n",
      "  warnings.warn(label_encoder_deprecation_msg, UserWarning)\n"
     ]
    },
    {
     "name": "stdout",
     "output_type": "stream",
     "text": [
      "[00:17:01] WARNING: /Users/runner/miniforge3/conda-bld/xgboost-split_1637426411619/work/src/learner.cc:1115: Starting in XGBoost 1.3.0, the default evaluation metric used with the objective 'binary:logistic' was changed from 'error' to 'logloss'. Explicitly set eval_metric if you'd like to restore the old behavior.\n",
      "[00:17:01] WARNING: /Users/runner/miniforge3/conda-bld/xgboost-split_1637426411619/work/src/learner.cc:1115: Starting in XGBoost 1.3.0, the default evaluation metric used with the objective 'binary:logistic' was changed from 'error' to 'logloss'. Explicitly set eval_metric if you'd like to restore the old behavior.\n",
      "[00:17:01] WARNING: /Users/runner/miniforge3/conda-bld/xgboost-split_1637426411619/work/src/learner.cc:1115: Starting in XGBoost 1.3.0, the default evaluation metric used with the objective 'binary:logistic' was changed from 'error' to 'logloss'. Explicitly set eval_metric if you'd like to restore the old behavior.\n"
     ]
    },
    {
     "name": "stderr",
     "output_type": "stream",
     "text": [
      "/Users/hongseongmi/miniforge3/envs/ds_study/lib/python3.8/site-packages/xgboost/sklearn.py:1224: UserWarning: The use of label encoder in XGBClassifier is deprecated and will be removed in a future release. To remove this warning, do the following: 1) Pass option use_label_encoder=False when constructing XGBClassifier object; and 2) Encode your labels (y) as integers starting with 0, i.e. 0, 1, 2, ..., [num_class - 1].\n",
      "  warnings.warn(label_encoder_deprecation_msg, UserWarning)\n",
      "/Users/hongseongmi/miniforge3/envs/ds_study/lib/python3.8/site-packages/xgboost/sklearn.py:1224: UserWarning: The use of label encoder in XGBClassifier is deprecated and will be removed in a future release. To remove this warning, do the following: 1) Pass option use_label_encoder=False when constructing XGBClassifier object; and 2) Encode your labels (y) as integers starting with 0, i.e. 0, 1, 2, ..., [num_class - 1].\n",
      "  warnings.warn(label_encoder_deprecation_msg, UserWarning)\n",
      "/Users/hongseongmi/miniforge3/envs/ds_study/lib/python3.8/site-packages/xgboost/sklearn.py:1224: UserWarning: The use of label encoder in XGBClassifier is deprecated and will be removed in a future release. To remove this warning, do the following: 1) Pass option use_label_encoder=False when constructing XGBClassifier object; and 2) Encode your labels (y) as integers starting with 0, i.e. 0, 1, 2, ..., [num_class - 1].\n",
      "  warnings.warn(label_encoder_deprecation_msg, UserWarning)\n"
     ]
    },
    {
     "name": "stdout",
     "output_type": "stream",
     "text": [
      "[00:17:01] WARNING: /Users/runner/miniforge3/conda-bld/xgboost-split_1637426411619/work/src/learner.cc:1115: Starting in XGBoost 1.3.0, the default evaluation metric used with the objective 'binary:logistic' was changed from 'error' to 'logloss'. Explicitly set eval_metric if you'd like to restore the old behavior.\n",
      "[00:17:01] WARNING: /Users/runner/miniforge3/conda-bld/xgboost-split_1637426411619/work/src/learner.cc:1115: Starting in XGBoost 1.3.0, the default evaluation metric used with the objective 'binary:logistic' was changed from 'error' to 'logloss'. Explicitly set eval_metric if you'd like to restore the old behavior.\n",
      "[00:17:02] WARNING: /Users/runner/miniforge3/conda-bld/xgboost-split_1637426411619/work/src/learner.cc:1115: Starting in XGBoost 1.3.0, the default evaluation metric used with the objective 'binary:logistic' was changed from 'error' to 'logloss'. Explicitly set eval_metric if you'd like to restore the old behavior.\n"
     ]
    },
    {
     "name": "stderr",
     "output_type": "stream",
     "text": [
      "/Users/hongseongmi/miniforge3/envs/ds_study/lib/python3.8/site-packages/xgboost/sklearn.py:1224: UserWarning: The use of label encoder in XGBClassifier is deprecated and will be removed in a future release. To remove this warning, do the following: 1) Pass option use_label_encoder=False when constructing XGBClassifier object; and 2) Encode your labels (y) as integers starting with 0, i.e. 0, 1, 2, ..., [num_class - 1].\n",
      "  warnings.warn(label_encoder_deprecation_msg, UserWarning)\n",
      "/Users/hongseongmi/miniforge3/envs/ds_study/lib/python3.8/site-packages/xgboost/sklearn.py:1224: UserWarning: The use of label encoder in XGBClassifier is deprecated and will be removed in a future release. To remove this warning, do the following: 1) Pass option use_label_encoder=False when constructing XGBClassifier object; and 2) Encode your labels (y) as integers starting with 0, i.e. 0, 1, 2, ..., [num_class - 1].\n",
      "  warnings.warn(label_encoder_deprecation_msg, UserWarning)\n",
      "/Users/hongseongmi/miniforge3/envs/ds_study/lib/python3.8/site-packages/xgboost/sklearn.py:1224: UserWarning: The use of label encoder in XGBClassifier is deprecated and will be removed in a future release. To remove this warning, do the following: 1) Pass option use_label_encoder=False when constructing XGBClassifier object; and 2) Encode your labels (y) as integers starting with 0, i.e. 0, 1, 2, ..., [num_class - 1].\n",
      "  warnings.warn(label_encoder_deprecation_msg, UserWarning)\n",
      "/Users/hongseongmi/miniforge3/envs/ds_study/lib/python3.8/site-packages/xgboost/sklearn.py:1224: UserWarning: The use of label encoder in XGBClassifier is deprecated and will be removed in a future release. To remove this warning, do the following: 1) Pass option use_label_encoder=False when constructing XGBClassifier object; and 2) Encode your labels (y) as integers starting with 0, i.e. 0, 1, 2, ..., [num_class - 1].\n",
      "  warnings.warn(label_encoder_deprecation_msg, UserWarning)\n"
     ]
    },
    {
     "name": "stdout",
     "output_type": "stream",
     "text": [
      "[00:17:02] WARNING: /Users/runner/miniforge3/conda-bld/xgboost-split_1637426411619/work/src/learner.cc:1115: Starting in XGBoost 1.3.0, the default evaluation metric used with the objective 'binary:logistic' was changed from 'error' to 'logloss'. Explicitly set eval_metric if you'd like to restore the old behavior.\n",
      "[00:17:02] WARNING: /Users/runner/miniforge3/conda-bld/xgboost-split_1637426411619/work/src/learner.cc:1115: Starting in XGBoost 1.3.0, the default evaluation metric used with the objective 'binary:logistic' was changed from 'error' to 'logloss'. Explicitly set eval_metric if you'd like to restore the old behavior.\n",
      "[00:17:02] WARNING: /Users/runner/miniforge3/conda-bld/xgboost-split_1637426411619/work/src/learner.cc:1115: Starting in XGBoost 1.3.0, the default evaluation metric used with the objective 'binary:logistic' was changed from 'error' to 'logloss'. Explicitly set eval_metric if you'd like to restore the old behavior.\n",
      "[00:17:02] WARNING: /Users/runner/miniforge3/conda-bld/xgboost-split_1637426411619/work/src/learner.cc:1115: Starting in XGBoost 1.3.0, the default evaluation metric used with the objective 'binary:logistic' was changed from 'error' to 'logloss'. Explicitly set eval_metric if you'd like to restore the old behavior.\n"
     ]
    },
    {
     "name": "stderr",
     "output_type": "stream",
     "text": [
      "/Users/hongseongmi/miniforge3/envs/ds_study/lib/python3.8/site-packages/xgboost/sklearn.py:1224: UserWarning: The use of label encoder in XGBClassifier is deprecated and will be removed in a future release. To remove this warning, do the following: 1) Pass option use_label_encoder=False when constructing XGBClassifier object; and 2) Encode your labels (y) as integers starting with 0, i.e. 0, 1, 2, ..., [num_class - 1].\n",
      "  warnings.warn(label_encoder_deprecation_msg, UserWarning)\n",
      "/Users/hongseongmi/miniforge3/envs/ds_study/lib/python3.8/site-packages/xgboost/sklearn.py:1224: UserWarning: The use of label encoder in XGBClassifier is deprecated and will be removed in a future release. To remove this warning, do the following: 1) Pass option use_label_encoder=False when constructing XGBClassifier object; and 2) Encode your labels (y) as integers starting with 0, i.e. 0, 1, 2, ..., [num_class - 1].\n",
      "  warnings.warn(label_encoder_deprecation_msg, UserWarning)\n",
      "/Users/hongseongmi/miniforge3/envs/ds_study/lib/python3.8/site-packages/xgboost/sklearn.py:1224: UserWarning: The use of label encoder in XGBClassifier is deprecated and will be removed in a future release. To remove this warning, do the following: 1) Pass option use_label_encoder=False when constructing XGBClassifier object; and 2) Encode your labels (y) as integers starting with 0, i.e. 0, 1, 2, ..., [num_class - 1].\n",
      "  warnings.warn(label_encoder_deprecation_msg, UserWarning)\n"
     ]
    },
    {
     "name": "stdout",
     "output_type": "stream",
     "text": [
      "[00:17:02] WARNING: /Users/runner/miniforge3/conda-bld/xgboost-split_1637426411619/work/src/learner.cc:1115: Starting in XGBoost 1.3.0, the default evaluation metric used with the objective 'binary:logistic' was changed from 'error' to 'logloss'. Explicitly set eval_metric if you'd like to restore the old behavior.\n",
      "[00:17:02] WARNING: /Users/runner/miniforge3/conda-bld/xgboost-split_1637426411619/work/src/learner.cc:1115: Starting in XGBoost 1.3.0, the default evaluation metric used with the objective 'binary:logistic' was changed from 'error' to 'logloss'. Explicitly set eval_metric if you'd like to restore the old behavior.\n",
      "[00:17:02] WARNING: /Users/runner/miniforge3/conda-bld/xgboost-split_1637426411619/work/src/learner.cc:1115: Starting in XGBoost 1.3.0, the default evaluation metric used with the objective 'binary:logistic' was changed from 'error' to 'logloss'. Explicitly set eval_metric if you'd like to restore the old behavior.\n"
     ]
    },
    {
     "name": "stderr",
     "output_type": "stream",
     "text": [
      "/Users/hongseongmi/miniforge3/envs/ds_study/lib/python3.8/site-packages/xgboost/sklearn.py:1224: UserWarning: The use of label encoder in XGBClassifier is deprecated and will be removed in a future release. To remove this warning, do the following: 1) Pass option use_label_encoder=False when constructing XGBClassifier object; and 2) Encode your labels (y) as integers starting with 0, i.e. 0, 1, 2, ..., [num_class - 1].\n",
      "  warnings.warn(label_encoder_deprecation_msg, UserWarning)\n",
      "/Users/hongseongmi/miniforge3/envs/ds_study/lib/python3.8/site-packages/xgboost/sklearn.py:1224: UserWarning: The use of label encoder in XGBClassifier is deprecated and will be removed in a future release. To remove this warning, do the following: 1) Pass option use_label_encoder=False when constructing XGBClassifier object; and 2) Encode your labels (y) as integers starting with 0, i.e. 0, 1, 2, ..., [num_class - 1].\n",
      "  warnings.warn(label_encoder_deprecation_msg, UserWarning)\n",
      "/Users/hongseongmi/miniforge3/envs/ds_study/lib/python3.8/site-packages/xgboost/sklearn.py:1224: UserWarning: The use of label encoder in XGBClassifier is deprecated and will be removed in a future release. To remove this warning, do the following: 1) Pass option use_label_encoder=False when constructing XGBClassifier object; and 2) Encode your labels (y) as integers starting with 0, i.e. 0, 1, 2, ..., [num_class - 1].\n",
      "  warnings.warn(label_encoder_deprecation_msg, UserWarning)\n",
      "/Users/hongseongmi/miniforge3/envs/ds_study/lib/python3.8/site-packages/xgboost/sklearn.py:1224: UserWarning: The use of label encoder in XGBClassifier is deprecated and will be removed in a future release. To remove this warning, do the following: 1) Pass option use_label_encoder=False when constructing XGBClassifier object; and 2) Encode your labels (y) as integers starting with 0, i.e. 0, 1, 2, ..., [num_class - 1].\n",
      "  warnings.warn(label_encoder_deprecation_msg, UserWarning)\n"
     ]
    },
    {
     "name": "stdout",
     "output_type": "stream",
     "text": [
      "[00:17:02] WARNING: /Users/runner/miniforge3/conda-bld/xgboost-split_1637426411619/work/src/learner.cc:1115: Starting in XGBoost 1.3.0, the default evaluation metric used with the objective 'binary:logistic' was changed from 'error' to 'logloss'. Explicitly set eval_metric if you'd like to restore the old behavior.\n",
      "[00:17:02] WARNING: /Users/runner/miniforge3/conda-bld/xgboost-split_1637426411619/work/src/learner.cc:1115: Starting in XGBoost 1.3.0, the default evaluation metric used with the objective 'binary:logistic' was changed from 'error' to 'logloss'. Explicitly set eval_metric if you'd like to restore the old behavior.\n",
      "[00:17:02] WARNING: /Users/runner/miniforge3/conda-bld/xgboost-split_1637426411619/work/src/learner.cc:1115: Starting in XGBoost 1.3.0, the default evaluation metric used with the objective 'binary:logistic' was changed from 'error' to 'logloss'. Explicitly set eval_metric if you'd like to restore the old behavior.\n",
      "[00:17:02] WARNING: /Users/runner/miniforge3/conda-bld/xgboost-split_1637426411619/work/src/learner.cc:1115: Starting in XGBoost 1.3.0, the default evaluation metric used with the objective 'binary:logistic' was changed from 'error' to 'logloss'. Explicitly set eval_metric if you'd like to restore the old behavior.\n"
     ]
    },
    {
     "name": "stderr",
     "output_type": "stream",
     "text": [
      "/Users/hongseongmi/miniforge3/envs/ds_study/lib/python3.8/site-packages/xgboost/sklearn.py:1224: UserWarning: The use of label encoder in XGBClassifier is deprecated and will be removed in a future release. To remove this warning, do the following: 1) Pass option use_label_encoder=False when constructing XGBClassifier object; and 2) Encode your labels (y) as integers starting with 0, i.e. 0, 1, 2, ..., [num_class - 1].\n",
      "  warnings.warn(label_encoder_deprecation_msg, UserWarning)\n",
      "/Users/hongseongmi/miniforge3/envs/ds_study/lib/python3.8/site-packages/xgboost/sklearn.py:1224: UserWarning: The use of label encoder in XGBClassifier is deprecated and will be removed in a future release. To remove this warning, do the following: 1) Pass option use_label_encoder=False when constructing XGBClassifier object; and 2) Encode your labels (y) as integers starting with 0, i.e. 0, 1, 2, ..., [num_class - 1].\n",
      "  warnings.warn(label_encoder_deprecation_msg, UserWarning)\n",
      "/Users/hongseongmi/miniforge3/envs/ds_study/lib/python3.8/site-packages/xgboost/sklearn.py:1224: UserWarning: The use of label encoder in XGBClassifier is deprecated and will be removed in a future release. To remove this warning, do the following: 1) Pass option use_label_encoder=False when constructing XGBClassifier object; and 2) Encode your labels (y) as integers starting with 0, i.e. 0, 1, 2, ..., [num_class - 1].\n",
      "  warnings.warn(label_encoder_deprecation_msg, UserWarning)\n",
      "/Users/hongseongmi/miniforge3/envs/ds_study/lib/python3.8/site-packages/xgboost/sklearn.py:1224: UserWarning: The use of label encoder in XGBClassifier is deprecated and will be removed in a future release. To remove this warning, do the following: 1) Pass option use_label_encoder=False when constructing XGBClassifier object; and 2) Encode your labels (y) as integers starting with 0, i.e. 0, 1, 2, ..., [num_class - 1].\n",
      "  warnings.warn(label_encoder_deprecation_msg, UserWarning)\n"
     ]
    },
    {
     "name": "stdout",
     "output_type": "stream",
     "text": [
      "[00:17:02] WARNING: /Users/runner/miniforge3/conda-bld/xgboost-split_1637426411619/work/src/learner.cc:1115: Starting in XGBoost 1.3.0, the default evaluation metric used with the objective 'binary:logistic' was changed from 'error' to 'logloss'. Explicitly set eval_metric if you'd like to restore the old behavior.\n",
      "[00:17:02] WARNING: /Users/runner/miniforge3/conda-bld/xgboost-split_1637426411619/work/src/learner.cc:1115: Starting in XGBoost 1.3.0, the default evaluation metric used with the objective 'binary:logistic' was changed from 'error' to 'logloss'. Explicitly set eval_metric if you'd like to restore the old behavior.\n",
      "[00:17:02] WARNING: /Users/runner/miniforge3/conda-bld/xgboost-split_1637426411619/work/src/learner.cc:1115: Starting in XGBoost 1.3.0, the default evaluation metric used with the objective 'binary:logistic' was changed from 'error' to 'logloss'. Explicitly set eval_metric if you'd like to restore the old behavior.\n",
      "[00:17:02] WARNING: /Users/runner/miniforge3/conda-bld/xgboost-split_1637426411619/work/src/learner.cc:1115: Starting in XGBoost 1.3.0, the default evaluation metric used with the objective 'binary:logistic' was changed from 'error' to 'logloss'. Explicitly set eval_metric if you'd like to restore the old behavior.\n"
     ]
    },
    {
     "name": "stderr",
     "output_type": "stream",
     "text": [
      "/Users/hongseongmi/miniforge3/envs/ds_study/lib/python3.8/site-packages/xgboost/sklearn.py:1224: UserWarning: The use of label encoder in XGBClassifier is deprecated and will be removed in a future release. To remove this warning, do the following: 1) Pass option use_label_encoder=False when constructing XGBClassifier object; and 2) Encode your labels (y) as integers starting with 0, i.e. 0, 1, 2, ..., [num_class - 1].\n",
      "  warnings.warn(label_encoder_deprecation_msg, UserWarning)\n",
      "/Users/hongseongmi/miniforge3/envs/ds_study/lib/python3.8/site-packages/xgboost/sklearn.py:1224: UserWarning: The use of label encoder in XGBClassifier is deprecated and will be removed in a future release. To remove this warning, do the following: 1) Pass option use_label_encoder=False when constructing XGBClassifier object; and 2) Encode your labels (y) as integers starting with 0, i.e. 0, 1, 2, ..., [num_class - 1].\n",
      "  warnings.warn(label_encoder_deprecation_msg, UserWarning)\n"
     ]
    },
    {
     "name": "stdout",
     "output_type": "stream",
     "text": [
      "[00:17:03] WARNING: /Users/runner/miniforge3/conda-bld/xgboost-split_1637426411619/work/src/learner.cc:1115: Starting in XGBoost 1.3.0, the default evaluation metric used with the objective 'binary:logistic' was changed from 'error' to 'logloss'. Explicitly set eval_metric if you'd like to restore the old behavior.\n",
      "[00:17:03] WARNING: /Users/runner/miniforge3/conda-bld/xgboost-split_1637426411619/work/src/learner.cc:1115: Starting in XGBoost 1.3.0, the default evaluation metric used with the objective 'binary:logistic' was changed from 'error' to 'logloss'. Explicitly set eval_metric if you'd like to restore the old behavior.\n"
     ]
    },
    {
     "name": "stderr",
     "output_type": "stream",
     "text": [
      "/Users/hongseongmi/miniforge3/envs/ds_study/lib/python3.8/site-packages/xgboost/sklearn.py:1224: UserWarning: The use of label encoder in XGBClassifier is deprecated and will be removed in a future release. To remove this warning, do the following: 1) Pass option use_label_encoder=False when constructing XGBClassifier object; and 2) Encode your labels (y) as integers starting with 0, i.e. 0, 1, 2, ..., [num_class - 1].\n",
      "  warnings.warn(label_encoder_deprecation_msg, UserWarning)\n",
      "/Users/hongseongmi/miniforge3/envs/ds_study/lib/python3.8/site-packages/xgboost/sklearn.py:1224: UserWarning: The use of label encoder in XGBClassifier is deprecated and will be removed in a future release. To remove this warning, do the following: 1) Pass option use_label_encoder=False when constructing XGBClassifier object; and 2) Encode your labels (y) as integers starting with 0, i.e. 0, 1, 2, ..., [num_class - 1].\n",
      "  warnings.warn(label_encoder_deprecation_msg, UserWarning)\n"
     ]
    },
    {
     "name": "stdout",
     "output_type": "stream",
     "text": [
      "[00:17:03] WARNING: /Users/runner/miniforge3/conda-bld/xgboost-split_1637426411619/work/src/learner.cc:1115: Starting in XGBoost 1.3.0, the default evaluation metric used with the objective 'binary:logistic' was changed from 'error' to 'logloss'. Explicitly set eval_metric if you'd like to restore the old behavior.\n",
      "[00:17:03] WARNING: /Users/runner/miniforge3/conda-bld/xgboost-split_1637426411619/work/src/learner.cc:1115: Starting in XGBoost 1.3.0, the default evaluation metric used with the objective 'binary:logistic' was changed from 'error' to 'logloss'. Explicitly set eval_metric if you'd like to restore the old behavior.\n"
     ]
    }
   ],
   "source": [
    "from sklearn.model_selection import GridSearchCV\n",
    "\n",
    "clf = GridSearchCV(pipe, search_space, cv=5, verbose=0)\n",
    "best_model = clf.fit(X_train, y_train)"
   ]
  },
  {
   "cell_type": "code",
   "execution_count": 149,
   "id": "088a10ae",
   "metadata": {},
   "outputs": [
    {
     "data": {
      "text/plain": [
       "Pipeline(steps=[('clf',\n",
       "                 XGBClassifier(base_score=0.5, booster='gbtree',\n",
       "                               colsample_bylevel=1, colsample_bynode=1,\n",
       "                               colsample_bytree=1, enable_categorical=False,\n",
       "                               gamma=0, gpu_id=-1, importance_type=None,\n",
       "                               interaction_constraints='', learning_rate=0.1,\n",
       "                               max_delta_step=0, max_depth=5,\n",
       "                               min_child_weight=1, missing=nan,\n",
       "                               monotone_constraints='()', n_estimators=100,\n",
       "                               n_jobs=8, num_parallel_tree=1, predictor='auto',\n",
       "                               random_state=0, reg_alpha=0, reg_lambda=1,\n",
       "                               scale_pos_weight=1, subsample=1,\n",
       "                               tree_method='exact', validate_parameters=1,\n",
       "                               verbosity=None))])"
      ]
     },
     "execution_count": 149,
     "metadata": {},
     "output_type": "execute_result"
    }
   ],
   "source": [
    "best_model.best_estimator_"
   ]
  },
  {
   "cell_type": "code",
   "execution_count": 154,
   "id": "423f5c58",
   "metadata": {},
   "outputs": [
    {
     "name": "stdout",
     "output_type": "stream",
     "text": [
      "=> confusion matrix\n",
      "[[73  2]\n",
      " [ 0 71]]\n",
      "=============\n",
      "Accuracy: 0.9863, Precision: 0.9726\n",
      "Recall: 1.0000, F1: 0.9861, AUC:0.9867\n"
     ]
    }
   ],
   "source": [
    "best_df_clf = best_model.best_estimator_\n",
    "pred1 = best_df_clf.predict(X_test)\n",
    "\n",
    "print_clf_eval(y_test, pred1)"
   ]
  },
  {
   "cell_type": "code",
   "execution_count": 152,
   "id": "daa7c0ea",
   "metadata": {},
   "outputs": [
    {
     "data": {
      "text/plain": [
       "{'clf': XGBClassifier(base_score=None, booster=None, colsample_bylevel=None,\n",
       "               colsample_bynode=None, colsample_bytree=None,\n",
       "               enable_categorical=False, gamma=None, gpu_id=None,\n",
       "               importance_type=None, interaction_constraints=None,\n",
       "               learning_rate=0.1, max_delta_step=None, max_depth=5,\n",
       "               min_child_weight=None, missing=nan, monotone_constraints=None,\n",
       "               n_estimators=100, n_jobs=None, num_parallel_tree=None,\n",
       "               predictor=None, random_state=None, reg_alpha=None,\n",
       "               reg_lambda=None, scale_pos_weight=None, subsample=None,\n",
       "               tree_method=None, validate_parameters=None, verbosity=None),\n",
       " 'clf__learning_rate': 0.1,\n",
       " 'clf__max_depth': 5,\n",
       " 'clf__n_estimators': 100}"
      ]
     },
     "execution_count": 152,
     "metadata": {},
     "output_type": "execute_result"
    }
   ],
   "source": [
    "best_model.best_params_"
   ]
  },
  {
   "cell_type": "code",
   "execution_count": 163,
   "id": "03d3516b",
   "metadata": {},
   "outputs": [
    {
     "name": "stdout",
     "output_type": "stream",
     "text": [
      "[00:23:24] WARNING: /Users/runner/miniforge3/conda-bld/xgboost-split_1637426411619/work/src/learner.cc:1115: Starting in XGBoost 1.3.0, the default evaluation metric used with the objective 'binary:logistic' was changed from 'error' to 'logloss'. Explicitly set eval_metric if you'd like to restore the old behavior.\n",
      "=> confusion matrix\n",
      "[[75  0]\n",
      " [ 0 71]]\n",
      "=============\n",
      "Accuracy: 1.0000, Precision: 1.0000\n",
      "Recall: 1.0000, F1: 1.0000, AUC:1.0000\n"
     ]
    },
    {
     "name": "stderr",
     "output_type": "stream",
     "text": [
      "/Users/hongseongmi/miniforge3/envs/ds_study/lib/python3.8/site-packages/xgboost/sklearn.py:1224: UserWarning: The use of label encoder in XGBClassifier is deprecated and will be removed in a future release. To remove this warning, do the following: 1) Pass option use_label_encoder=False when constructing XGBClassifier object; and 2) Encode your labels (y) as integers starting with 0, i.e. 0, 1, 2, ..., [num_class - 1].\n",
      "  warnings.warn(label_encoder_deprecation_msg, UserWarning)\n"
     ]
    }
   ],
   "source": [
    "xg_clf = XGBClassifier(base_score=None, booster=None, colsample_bylevel=None,\n",
    "               colsample_bynode=None, colsample_bytree=None,\n",
    "               enable_categorical=False, gamma=None, gpu_id=None,\n",
    "               importance_type=None, interaction_constraints=None,\n",
    "               learning_rate=0.1, max_delta_step=None, max_depth=5,\n",
    "               min_child_weight=None, monotone_constraints=None,\n",
    "               n_estimators=100, n_jobs=None, num_parallel_tree=None,\n",
    "               predictor=None, random_state=None, reg_alpha=None,\n",
    "               reg_lambda=None, scale_pos_weight=None, subsample=None,\n",
    "               tree_method=None, validate_parameters=None, verbosity=None)\n",
    "xg_clf.fit(X_train, y_train)\n",
    "xg_pred = xg_clf.predict(X_test)\n",
    "\n",
    "print_clf_eval(y_test, rf_pred)"
   ]
  },
  {
   "cell_type": "code",
   "execution_count": 175,
   "id": "c9ae8f73",
   "metadata": {},
   "outputs": [
    {
     "data": {
      "text/plain": [
       "Raw_Cos        0.721241\n",
       "ROAD_EASY      0.193903\n",
       "ROAD_MID       0.058096\n",
       "Sel_Cos        0.015415\n",
       "MNTN_HEIGHT    0.011345\n",
       "ROAD_DIFF      0.000000\n",
       "dtype: float32"
      ]
     },
     "execution_count": 175,
     "metadata": {},
     "output_type": "execute_result"
    }
   ],
   "source": [
    "best_cols_values = xg_clf.feature_importances_\n",
    "best_cols = pd.Series(best_cols_values, index=MT_train.columns[:-1])\n",
    "top_cols = best_cols.sort_values(ascending=False)\n",
    "top_cols"
   ]
  },
  {
   "cell_type": "code",
   "execution_count": 177,
   "id": "74d68ef8",
   "metadata": {},
   "outputs": [
    {
     "data": {
      "image/png": "[encoded data removed]",
      "text/plain": [
       "<Figure size 432x288 with 1 Axes>"
      ]
     },
     "metadata": {
      "needs_background": "light"
     },
     "output_type": "display_data"
    }
   ],
   "source": [
    "plt.barh(top_cols.index, top_cols.values, color='#2A5234')\n",
    "plt.title('feature importance', fontsize=15)\n",
    "plt.show()"
   ]
  },
  {
   "cell_type": "markdown",
   "id": "a0af78e0",
   "metadata": {},
   "source": [
    "## Test data predict"
   ]
  },
  {
   "cell_type": "code",
   "execution_count": 63,
   "id": "7f2fd7dd",
   "metadata": {},
   "outputs": [],
   "source": [
    "mn = list(list_100['name'])"
   ]
  },
  {
   "cell_type": "code",
   "execution_count": 64,
   "id": "1998b8e0",
   "metadata": {},
   "outputs": [
    {
     "data": {
      "text/html": [
       "<div>\n",
       "<style scoped>\n",
       "    .dataframe tbody tr th:only-of-type {\n",
       "        vertical-align: middle;\n",
       "    }\n",
       "\n",
       "    .dataframe tbody tr th {\n",
       "        vertical-align: top;\n",
       "    }\n",
       "\n",
       "    .dataframe thead th {\n",
       "        text-align: right;\n",
       "    }\n",
       "</style>\n",
       "<table border=\"1\" class=\"dataframe\">\n",
       "  <thead>\n",
       "    <tr style=\"text-align: right;\">\n",
       "      <th></th>\n",
       "      <th>MNTN_CODE</th>\n",
       "      <th>MNTN_NM</th>\n",
       "      <th>MNTN_LOC</th>\n",
       "      <th>MNTN_HEIGHT</th>\n",
       "      <th>ROAD_EASY</th>\n",
       "      <th>ROAD_MID</th>\n",
       "      <th>ROAD_DIFF</th>\n",
       "      <th>ROAD_SUM</th>\n",
       "      <th>MNTN_RES</th>\n",
       "      <th>Sel_Cos</th>\n",
       "      <th>Raw_Cos</th>\n",
       "    </tr>\n",
       "  </thead>\n",
       "  <tbody>\n",
       "    <tr>\n",
       "      <th>0</th>\n",
       "      <td>301100101</td>\n",
       "      <td>강바위산</td>\n",
       "      <td>NaN</td>\n",
       "      <td>382</td>\n",
       "      <td>4.42</td>\n",
       "      <td>0.00</td>\n",
       "      <td>0.0</td>\n",
       "      <td>4.42</td>\n",
       "      <td>[]</td>\n",
       "      <td>0.000000</td>\n",
       "      <td>0.000000</td>\n",
       "    </tr>\n",
       "    <tr>\n",
       "      <th>1</th>\n",
       "      <td>441801501</td>\n",
       "      <td>양각산</td>\n",
       "      <td>경상남도 거창군 웅양면 산포리</td>\n",
       "      <td>1158</td>\n",
       "      <td>35.54</td>\n",
       "      <td>0.99</td>\n",
       "      <td>0.0</td>\n",
       "      <td>36.53</td>\n",
       "      <td>&lt;item&gt;&lt;crcmrsghtngetcimageseq&gt;http://www.fores...</td>\n",
       "      <td>0.722315</td>\n",
       "      <td>0.170821</td>\n",
       "    </tr>\n",
       "    <tr>\n",
       "      <th>4</th>\n",
       "      <td>457302401</td>\n",
       "      <td>박석산</td>\n",
       "      <td>NaN</td>\n",
       "      <td>595</td>\n",
       "      <td>10.52</td>\n",
       "      <td>0.00</td>\n",
       "      <td>0.0</td>\n",
       "      <td>10.52</td>\n",
       "      <td>[]</td>\n",
       "      <td>0.000000</td>\n",
       "      <td>0.000000</td>\n",
       "    </tr>\n",
       "    <tr>\n",
       "      <th>5</th>\n",
       "      <td>481700701</td>\n",
       "      <td>망진산</td>\n",
       "      <td>경상남도 진주시</td>\n",
       "      <td>172</td>\n",
       "      <td>10.72</td>\n",
       "      <td>0.00</td>\n",
       "      <td>0.0</td>\n",
       "      <td>10.72</td>\n",
       "      <td>&lt;item&gt;&lt;crcmrsghtngetcimageseq&gt;http://www.fores...</td>\n",
       "      <td>0.361158</td>\n",
       "      <td>0.140784</td>\n",
       "    </tr>\n",
       "    <tr>\n",
       "      <th>6</th>\n",
       "      <td>421101701</td>\n",
       "      <td>마적산</td>\n",
       "      <td>강원도 춘천시 신북읍, 북산면</td>\n",
       "      <td>610</td>\n",
       "      <td>25.55</td>\n",
       "      <td>1.16</td>\n",
       "      <td>0.0</td>\n",
       "      <td>26.71</td>\n",
       "      <td>&lt;item&gt;&lt;crcmrsghtngetcimageseq&gt;http://www.fores...</td>\n",
       "      <td>0.589768</td>\n",
       "      <td>0.113342</td>\n",
       "    </tr>\n",
       "    <tr>\n",
       "      <th>...</th>\n",
       "      <td>...</td>\n",
       "      <td>...</td>\n",
       "      <td>...</td>\n",
       "      <td>...</td>\n",
       "      <td>...</td>\n",
       "      <td>...</td>\n",
       "      <td>...</td>\n",
       "      <td>...</td>\n",
       "      <td>...</td>\n",
       "      <td>...</td>\n",
       "      <td>...</td>\n",
       "    </tr>\n",
       "    <tr>\n",
       "      <th>1542</th>\n",
       "      <td>461100701</td>\n",
       "      <td>양을산</td>\n",
       "      <td>전라남도 목포</td>\n",
       "      <td>151</td>\n",
       "      <td>9.48</td>\n",
       "      <td>0.00</td>\n",
       "      <td>0.0</td>\n",
       "      <td>9.48</td>\n",
       "      <td>&lt;item&gt;&lt;crcmrsghtngetcimageseq&gt;http://www.fores...</td>\n",
       "      <td>0.000000</td>\n",
       "      <td>0.027094</td>\n",
       "    </tr>\n",
       "    <tr>\n",
       "      <th>1544</th>\n",
       "      <td>441502801</td>\n",
       "      <td>월성산</td>\n",
       "      <td>NaN</td>\n",
       "      <td>312</td>\n",
       "      <td>15.51</td>\n",
       "      <td>0.08</td>\n",
       "      <td>0.0</td>\n",
       "      <td>15.59</td>\n",
       "      <td>[]</td>\n",
       "      <td>0.000000</td>\n",
       "      <td>0.000000</td>\n",
       "    </tr>\n",
       "    <tr>\n",
       "      <th>1546</th>\n",
       "      <td>418200601</td>\n",
       "      <td>고동산</td>\n",
       "      <td>경기도 가평군 설악면, 양평군 서종면</td>\n",
       "      <td>600</td>\n",
       "      <td>23.41</td>\n",
       "      <td>0.00</td>\n",
       "      <td>0.0</td>\n",
       "      <td>23.41</td>\n",
       "      <td>&lt;item&gt;&lt;crcmrsghtngetcimageseq&gt;http://www.fores...</td>\n",
       "      <td>0.294884</td>\n",
       "      <td>0.069076</td>\n",
       "    </tr>\n",
       "    <tr>\n",
       "      <th>1549</th>\n",
       "      <td>488700401</td>\n",
       "      <td>금대산</td>\n",
       "      <td>NaN</td>\n",
       "      <td>89</td>\n",
       "      <td>2.60</td>\n",
       "      <td>0.00</td>\n",
       "      <td>0.0</td>\n",
       "      <td>2.60</td>\n",
       "      <td>[]</td>\n",
       "      <td>0.000000</td>\n",
       "      <td>0.000000</td>\n",
       "    </tr>\n",
       "    <tr>\n",
       "      <th>1550</th>\n",
       "      <td>482703301</td>\n",
       "      <td>옥교산</td>\n",
       "      <td>경상남도 밀양시 상동면 안인리</td>\n",
       "      <td>538</td>\n",
       "      <td>25.88</td>\n",
       "      <td>0.00</td>\n",
       "      <td>0.0</td>\n",
       "      <td>25.88</td>\n",
       "      <td>&lt;item&gt;&lt;crcmrsghtngetcimageseq&gt;http://www.fores...</td>\n",
       "      <td>0.361158</td>\n",
       "      <td>0.093856</td>\n",
       "    </tr>\n",
       "  </tbody>\n",
       "</table>\n",
       "<p>1080 rows × 11 columns</p>\n",
       "</div>"
      ],
      "text/plain": [
       "      MNTN_CODE MNTN_NM              MNTN_LOC  MNTN_HEIGHT  ROAD_EASY  \\\n",
       "0     301100101    강바위산                   NaN          382       4.42   \n",
       "1     441801501     양각산      경상남도 거창군 웅양면 산포리         1158      35.54   \n",
       "4     457302401     박석산                   NaN          595      10.52   \n",
       "5     481700701     망진산              경상남도 진주시          172      10.72   \n",
       "6     421101701     마적산      강원도 춘천시 신북읍, 북산면          610      25.55   \n",
       "...         ...     ...                   ...          ...        ...   \n",
       "1542  461100701     양을산               전라남도 목포          151       9.48   \n",
       "1544  441502801     월성산                   NaN          312      15.51   \n",
       "1546  418200601     고동산  경기도 가평군 설악면, 양평군 서종면          600      23.41   \n",
       "1549  488700401     금대산                   NaN           89       2.60   \n",
       "1550  482703301     옥교산      경상남도 밀양시 상동면 안인리          538      25.88   \n",
       "\n",
       "      ROAD_MID  ROAD_DIFF  ROAD_SUM  \\\n",
       "0         0.00        0.0      4.42   \n",
       "1         0.99        0.0     36.53   \n",
       "4         0.00        0.0     10.52   \n",
       "5         0.00        0.0     10.72   \n",
       "6         1.16        0.0     26.71   \n",
       "...        ...        ...       ...   \n",
       "1542      0.00        0.0      9.48   \n",
       "1544      0.08        0.0     15.59   \n",
       "1546      0.00        0.0     23.41   \n",
       "1549      0.00        0.0      2.60   \n",
       "1550      0.00        0.0     25.88   \n",
       "\n",
       "                                               MNTN_RES   Sel_Cos   Raw_Cos  \n",
       "0                                                    []  0.000000  0.000000  \n",
       "1     <item><crcmrsghtngetcimageseq>http://www.fores...  0.722315  0.170821  \n",
       "4                                                    []  0.000000  0.000000  \n",
       "5     <item><crcmrsghtngetcimageseq>http://www.fores...  0.361158  0.140784  \n",
       "6     <item><crcmrsghtngetcimageseq>http://www.fores...  0.589768  0.113342  \n",
       "...                                                 ...       ...       ...  \n",
       "1542  <item><crcmrsghtngetcimageseq>http://www.fores...  0.000000  0.027094  \n",
       "1544                                                 []  0.000000  0.000000  \n",
       "1546  <item><crcmrsghtngetcimageseq>http://www.fores...  0.294884  0.069076  \n",
       "1549                                                 []  0.000000  0.000000  \n",
       "1550  <item><crcmrsghtngetcimageseq>http://www.fores...  0.361158  0.093856  \n",
       "\n",
       "[1080 rows x 11 columns]"
      ]
     },
     "execution_count": 64,
     "metadata": {},
     "output_type": "execute_result"
    }
   ],
   "source": [
    "temp = GMT\n",
    "temp"
   ]
  },
  {
   "cell_type": "code",
   "execution_count": 65,
   "id": "b1ed45f9",
   "metadata": {},
   "outputs": [],
   "source": [
    "MT_tt = pd.DataFrame(columns = GMT.columns)"
   ]
  },
  {
   "cell_type": "code",
   "execution_count": 66,
   "id": "51b7abe1",
   "metadata": {},
   "outputs": [
    {
     "data": {
      "text/html": [
       "<div>\n",
       "<style scoped>\n",
       "    .dataframe tbody tr th:only-of-type {\n",
       "        vertical-align: middle;\n",
       "    }\n",
       "\n",
       "    .dataframe tbody tr th {\n",
       "        vertical-align: top;\n",
       "    }\n",
       "\n",
       "    .dataframe thead th {\n",
       "        text-align: right;\n",
       "    }\n",
       "</style>\n",
       "<table border=\"1\" class=\"dataframe\">\n",
       "  <thead>\n",
       "    <tr style=\"text-align: right;\">\n",
       "      <th></th>\n",
       "      <th>MNTN_CODE</th>\n",
       "      <th>MNTN_NM</th>\n",
       "      <th>MNTN_LOC</th>\n",
       "      <th>MNTN_HEIGHT</th>\n",
       "      <th>ROAD_EASY</th>\n",
       "      <th>ROAD_MID</th>\n",
       "      <th>ROAD_DIFF</th>\n",
       "      <th>ROAD_SUM</th>\n",
       "      <th>MNTN_RES</th>\n",
       "      <th>Sel_Cos</th>\n",
       "      <th>Raw_Cos</th>\n",
       "    </tr>\n",
       "  </thead>\n",
       "  <tbody>\n",
       "    <tr>\n",
       "      <th>0</th>\n",
       "      <td>301100101</td>\n",
       "      <td>강바위산</td>\n",
       "      <td>NaN</td>\n",
       "      <td>382</td>\n",
       "      <td>4.42</td>\n",
       "      <td>0.00</td>\n",
       "      <td>0.0</td>\n",
       "      <td>4.42</td>\n",
       "      <td>[]</td>\n",
       "      <td>0.000000</td>\n",
       "      <td>0.000000</td>\n",
       "    </tr>\n",
       "    <tr>\n",
       "      <th>1</th>\n",
       "      <td>441801501</td>\n",
       "      <td>양각산</td>\n",
       "      <td>경상남도 거창군 웅양면 산포리</td>\n",
       "      <td>1158</td>\n",
       "      <td>35.54</td>\n",
       "      <td>0.99</td>\n",
       "      <td>0.0</td>\n",
       "      <td>36.53</td>\n",
       "      <td>&lt;item&gt;&lt;crcmrsghtngetcimageseq&gt;http://www.fores...</td>\n",
       "      <td>0.722315</td>\n",
       "      <td>0.170821</td>\n",
       "    </tr>\n",
       "    <tr>\n",
       "      <th>2</th>\n",
       "      <td>457302401</td>\n",
       "      <td>박석산</td>\n",
       "      <td>NaN</td>\n",
       "      <td>595</td>\n",
       "      <td>10.52</td>\n",
       "      <td>0.00</td>\n",
       "      <td>0.0</td>\n",
       "      <td>10.52</td>\n",
       "      <td>[]</td>\n",
       "      <td>0.000000</td>\n",
       "      <td>0.000000</td>\n",
       "    </tr>\n",
       "    <tr>\n",
       "      <th>3</th>\n",
       "      <td>481700701</td>\n",
       "      <td>망진산</td>\n",
       "      <td>경상남도 진주시</td>\n",
       "      <td>172</td>\n",
       "      <td>10.72</td>\n",
       "      <td>0.00</td>\n",
       "      <td>0.0</td>\n",
       "      <td>10.72</td>\n",
       "      <td>&lt;item&gt;&lt;crcmrsghtngetcimageseq&gt;http://www.fores...</td>\n",
       "      <td>0.361158</td>\n",
       "      <td>0.140784</td>\n",
       "    </tr>\n",
       "    <tr>\n",
       "      <th>4</th>\n",
       "      <td>421101701</td>\n",
       "      <td>마적산</td>\n",
       "      <td>강원도 춘천시 신북읍, 북산면</td>\n",
       "      <td>610</td>\n",
       "      <td>25.55</td>\n",
       "      <td>1.16</td>\n",
       "      <td>0.0</td>\n",
       "      <td>26.71</td>\n",
       "      <td>&lt;item&gt;&lt;crcmrsghtngetcimageseq&gt;http://www.fores...</td>\n",
       "      <td>0.589768</td>\n",
       "      <td>0.113342</td>\n",
       "    </tr>\n",
       "    <tr>\n",
       "      <th>...</th>\n",
       "      <td>...</td>\n",
       "      <td>...</td>\n",
       "      <td>...</td>\n",
       "      <td>...</td>\n",
       "      <td>...</td>\n",
       "      <td>...</td>\n",
       "      <td>...</td>\n",
       "      <td>...</td>\n",
       "      <td>...</td>\n",
       "      <td>...</td>\n",
       "      <td>...</td>\n",
       "    </tr>\n",
       "    <tr>\n",
       "      <th>998</th>\n",
       "      <td>461100701</td>\n",
       "      <td>양을산</td>\n",
       "      <td>전라남도 목포</td>\n",
       "      <td>151</td>\n",
       "      <td>9.48</td>\n",
       "      <td>0.00</td>\n",
       "      <td>0.0</td>\n",
       "      <td>9.48</td>\n",
       "      <td>&lt;item&gt;&lt;crcmrsghtngetcimageseq&gt;http://www.fores...</td>\n",
       "      <td>0.000000</td>\n",
       "      <td>0.027094</td>\n",
       "    </tr>\n",
       "    <tr>\n",
       "      <th>999</th>\n",
       "      <td>441502801</td>\n",
       "      <td>월성산</td>\n",
       "      <td>NaN</td>\n",
       "      <td>312</td>\n",
       "      <td>15.51</td>\n",
       "      <td>0.08</td>\n",
       "      <td>0.0</td>\n",
       "      <td>15.59</td>\n",
       "      <td>[]</td>\n",
       "      <td>0.000000</td>\n",
       "      <td>0.000000</td>\n",
       "    </tr>\n",
       "    <tr>\n",
       "      <th>1000</th>\n",
       "      <td>418200601</td>\n",
       "      <td>고동산</td>\n",
       "      <td>경기도 가평군 설악면, 양평군 서종면</td>\n",
       "      <td>600</td>\n",
       "      <td>23.41</td>\n",
       "      <td>0.00</td>\n",
       "      <td>0.0</td>\n",
       "      <td>23.41</td>\n",
       "      <td>&lt;item&gt;&lt;crcmrsghtngetcimageseq&gt;http://www.fores...</td>\n",
       "      <td>0.294884</td>\n",
       "      <td>0.069076</td>\n",
       "    </tr>\n",
       "    <tr>\n",
       "      <th>1001</th>\n",
       "      <td>488700401</td>\n",
       "      <td>금대산</td>\n",
       "      <td>NaN</td>\n",
       "      <td>89</td>\n",
       "      <td>2.60</td>\n",
       "      <td>0.00</td>\n",
       "      <td>0.0</td>\n",
       "      <td>2.60</td>\n",
       "      <td>[]</td>\n",
       "      <td>0.000000</td>\n",
       "      <td>0.000000</td>\n",
       "    </tr>\n",
       "    <tr>\n",
       "      <th>1002</th>\n",
       "      <td>482703301</td>\n",
       "      <td>옥교산</td>\n",
       "      <td>경상남도 밀양시 상동면 안인리</td>\n",
       "      <td>538</td>\n",
       "      <td>25.88</td>\n",
       "      <td>0.00</td>\n",
       "      <td>0.0</td>\n",
       "      <td>25.88</td>\n",
       "      <td>&lt;item&gt;&lt;crcmrsghtngetcimageseq&gt;http://www.fores...</td>\n",
       "      <td>0.361158</td>\n",
       "      <td>0.093856</td>\n",
       "    </tr>\n",
       "  </tbody>\n",
       "</table>\n",
       "<p>1003 rows × 11 columns</p>\n",
       "</div>"
      ],
      "text/plain": [
       "      MNTN_CODE MNTN_NM              MNTN_LOC MNTN_HEIGHT  ROAD_EASY  \\\n",
       "0     301100101    강바위산                   NaN         382       4.42   \n",
       "1     441801501     양각산      경상남도 거창군 웅양면 산포리        1158      35.54   \n",
       "2     457302401     박석산                   NaN         595      10.52   \n",
       "3     481700701     망진산              경상남도 진주시         172      10.72   \n",
       "4     421101701     마적산      강원도 춘천시 신북읍, 북산면         610      25.55   \n",
       "...         ...     ...                   ...         ...        ...   \n",
       "998   461100701     양을산               전라남도 목포         151       9.48   \n",
       "999   441502801     월성산                   NaN         312      15.51   \n",
       "1000  418200601     고동산  경기도 가평군 설악면, 양평군 서종면         600      23.41   \n",
       "1001  488700401     금대산                   NaN          89       2.60   \n",
       "1002  482703301     옥교산      경상남도 밀양시 상동면 안인리         538      25.88   \n",
       "\n",
       "      ROAD_MID  ROAD_DIFF  ROAD_SUM  \\\n",
       "0         0.00        0.0      4.42   \n",
       "1         0.99        0.0     36.53   \n",
       "2         0.00        0.0     10.52   \n",
       "3         0.00        0.0     10.72   \n",
       "4         1.16        0.0     26.71   \n",
       "...        ...        ...       ...   \n",
       "998       0.00        0.0      9.48   \n",
       "999       0.08        0.0     15.59   \n",
       "1000      0.00        0.0     23.41   \n",
       "1001      0.00        0.0      2.60   \n",
       "1002      0.00        0.0     25.88   \n",
       "\n",
       "                                               MNTN_RES   Sel_Cos   Raw_Cos  \n",
       "0                                                    []  0.000000  0.000000  \n",
       "1     <item><crcmrsghtngetcimageseq>http://www.fores...  0.722315  0.170821  \n",
       "2                                                    []  0.000000  0.000000  \n",
       "3     <item><crcmrsghtngetcimageseq>http://www.fores...  0.361158  0.140784  \n",
       "4     <item><crcmrsghtngetcimageseq>http://www.fores...  0.589768  0.113342  \n",
       "...                                                 ...       ...       ...  \n",
       "998   <item><crcmrsghtngetcimageseq>http://www.fores...  0.000000  0.027094  \n",
       "999                                                  []  0.000000  0.000000  \n",
       "1000  <item><crcmrsghtngetcimageseq>http://www.fores...  0.294884  0.069076  \n",
       "1001                                                 []  0.000000  0.000000  \n",
       "1002  <item><crcmrsghtngetcimageseq>http://www.fores...  0.361158  0.093856  \n",
       "\n",
       "[1003 rows x 11 columns]"
      ]
     },
     "execution_count": 66,
     "metadata": {},
     "output_type": "execute_result"
    }
   ],
   "source": [
    "idx_lt = []\n",
    "for i in range(len(temp)):\n",
    "    if temp.iloc[i]['MNTN_NM'] in mn:\n",
    "        continue\n",
    "    else:\n",
    "        MT_tt = MT_tt.append(pd.DataFrame([list(temp.iloc[i])], columns = GMT.columns), ignore_index=True)\n",
    "MT_tt"
   ]
  },
  {
   "cell_type": "code",
   "execution_count": 67,
   "id": "1356af3e",
   "metadata": {},
   "outputs": [],
   "source": [
    "MT_test = MT_tt[['MNTN_HEIGHT', 'ROAD_EASY', 'ROAD_MID', 'ROAD_DIFF', 'Sel_Cos', 'Raw_Cos']]\n",
    "MT_test.to_csv('../data/Proj/UseData/MT_test_z.csv', encoding='utf-8', index=False)"
   ]
  },
  {
   "cell_type": "code",
   "execution_count": 69,
   "id": "13f0cb2f",
   "metadata": {},
   "outputs": [],
   "source": [
    "MT_test = pd.read_csv('../data/Proj/UseData/MT_test_z.csv')"
   ]
  },
  {
   "cell_type": "code",
   "execution_count": 70,
   "id": "86b0f442",
   "metadata": {},
   "outputs": [
    {
     "data": {
      "text/html": [
       "<div>\n",
       "<style scoped>\n",
       "    .dataframe tbody tr th:only-of-type {\n",
       "        vertical-align: middle;\n",
       "    }\n",
       "\n",
       "    .dataframe tbody tr th {\n",
       "        vertical-align: top;\n",
       "    }\n",
       "\n",
       "    .dataframe thead th {\n",
       "        text-align: right;\n",
       "    }\n",
       "</style>\n",
       "<table border=\"1\" class=\"dataframe\">\n",
       "  <thead>\n",
       "    <tr style=\"text-align: right;\">\n",
       "      <th></th>\n",
       "      <th>MNTN_HEIGHT</th>\n",
       "      <th>ROAD_EASY</th>\n",
       "      <th>ROAD_MID</th>\n",
       "      <th>ROAD_DIFF</th>\n",
       "      <th>Sel_Cos</th>\n",
       "      <th>Raw_Cos</th>\n",
       "    </tr>\n",
       "  </thead>\n",
       "  <tbody>\n",
       "    <tr>\n",
       "      <th>0</th>\n",
       "      <td>382</td>\n",
       "      <td>4.42</td>\n",
       "      <td>0.00</td>\n",
       "      <td>0.0</td>\n",
       "      <td>0.000000</td>\n",
       "      <td>0.000000</td>\n",
       "    </tr>\n",
       "    <tr>\n",
       "      <th>1</th>\n",
       "      <td>1158</td>\n",
       "      <td>35.54</td>\n",
       "      <td>0.99</td>\n",
       "      <td>0.0</td>\n",
       "      <td>0.722315</td>\n",
       "      <td>0.170821</td>\n",
       "    </tr>\n",
       "    <tr>\n",
       "      <th>2</th>\n",
       "      <td>595</td>\n",
       "      <td>10.52</td>\n",
       "      <td>0.00</td>\n",
       "      <td>0.0</td>\n",
       "      <td>0.000000</td>\n",
       "      <td>0.000000</td>\n",
       "    </tr>\n",
       "    <tr>\n",
       "      <th>3</th>\n",
       "      <td>172</td>\n",
       "      <td>10.72</td>\n",
       "      <td>0.00</td>\n",
       "      <td>0.0</td>\n",
       "      <td>0.361158</td>\n",
       "      <td>0.140784</td>\n",
       "    </tr>\n",
       "    <tr>\n",
       "      <th>4</th>\n",
       "      <td>610</td>\n",
       "      <td>25.55</td>\n",
       "      <td>1.16</td>\n",
       "      <td>0.0</td>\n",
       "      <td>0.589768</td>\n",
       "      <td>0.113342</td>\n",
       "    </tr>\n",
       "    <tr>\n",
       "      <th>...</th>\n",
       "      <td>...</td>\n",
       "      <td>...</td>\n",
       "      <td>...</td>\n",
       "      <td>...</td>\n",
       "      <td>...</td>\n",
       "      <td>...</td>\n",
       "    </tr>\n",
       "    <tr>\n",
       "      <th>998</th>\n",
       "      <td>151</td>\n",
       "      <td>9.48</td>\n",
       "      <td>0.00</td>\n",
       "      <td>0.0</td>\n",
       "      <td>0.000000</td>\n",
       "      <td>0.027094</td>\n",
       "    </tr>\n",
       "    <tr>\n",
       "      <th>999</th>\n",
       "      <td>312</td>\n",
       "      <td>15.51</td>\n",
       "      <td>0.08</td>\n",
       "      <td>0.0</td>\n",
       "      <td>0.000000</td>\n",
       "      <td>0.000000</td>\n",
       "    </tr>\n",
       "    <tr>\n",
       "      <th>1000</th>\n",
       "      <td>600</td>\n",
       "      <td>23.41</td>\n",
       "      <td>0.00</td>\n",
       "      <td>0.0</td>\n",
       "      <td>0.294884</td>\n",
       "      <td>0.069076</td>\n",
       "    </tr>\n",
       "    <tr>\n",
       "      <th>1001</th>\n",
       "      <td>89</td>\n",
       "      <td>2.60</td>\n",
       "      <td>0.00</td>\n",
       "      <td>0.0</td>\n",
       "      <td>0.000000</td>\n",
       "      <td>0.000000</td>\n",
       "    </tr>\n",
       "    <tr>\n",
       "      <th>1002</th>\n",
       "      <td>538</td>\n",
       "      <td>25.88</td>\n",
       "      <td>0.00</td>\n",
       "      <td>0.0</td>\n",
       "      <td>0.361158</td>\n",
       "      <td>0.093856</td>\n",
       "    </tr>\n",
       "  </tbody>\n",
       "</table>\n",
       "<p>1003 rows × 6 columns</p>\n",
       "</div>"
      ],
      "text/plain": [
       "      MNTN_HEIGHT  ROAD_EASY  ROAD_MID  ROAD_DIFF   Sel_Cos   Raw_Cos\n",
       "0             382       4.42      0.00        0.0  0.000000  0.000000\n",
       "1            1158      35.54      0.99        0.0  0.722315  0.170821\n",
       "2             595      10.52      0.00        0.0  0.000000  0.000000\n",
       "3             172      10.72      0.00        0.0  0.361158  0.140784\n",
       "4             610      25.55      1.16        0.0  0.589768  0.113342\n",
       "...           ...        ...       ...        ...       ...       ...\n",
       "998           151       9.48      0.00        0.0  0.000000  0.027094\n",
       "999           312      15.51      0.08        0.0  0.000000  0.000000\n",
       "1000          600      23.41      0.00        0.0  0.294884  0.069076\n",
       "1001           89       2.60      0.00        0.0  0.000000  0.000000\n",
       "1002          538      25.88      0.00        0.0  0.361158  0.093856\n",
       "\n",
       "[1003 rows x 6 columns]"
      ]
     },
     "execution_count": 70,
     "metadata": {},
     "output_type": "execute_result"
    }
   ],
   "source": [
    "MT_test"
   ]
  },
  {
   "cell_type": "code",
   "execution_count": 119,
   "id": "83754491",
   "metadata": {},
   "outputs": [],
   "source": [
    "rs = StandardScaler()\n",
    "sc_test = rs.fit_transform(MT_test)"
   ]
  },
  {
   "cell_type": "code",
   "execution_count": 120,
   "id": "cb6c1455",
   "metadata": {},
   "outputs": [
    {
     "data": {
      "image/png": "[encoded data removed]",
      "text/plain": [
       "<Figure size 1008x576 with 1 Axes>"
      ]
     },
     "metadata": {
      "needs_background": "light"
     },
     "output_type": "display_data"
    }
   ],
   "source": [
    "fig = plt.figure(figsize=(14,8))\n",
    "fig.suptitle('Algotrithm Comparison')\n",
    "ax = fig.add_subplot(111)\n",
    "plt.boxplot(sc_test)\n",
    "ax.set_xticklabels(MT_test.columns)\n",
    "plt.show()"
   ]
  },
  {
   "cell_type": "markdown",
   "id": "0c557a73",
   "metadata": {},
   "source": [
    "#### predict"
   ]
  },
  {
   "cell_type": "markdown",
   "id": "bb1b175e",
   "metadata": {},
   "source": [
    "#### test data에 robustscaler"
   ]
  },
  {
   "cell_type": "code",
   "execution_count": 121,
   "id": "b476202c",
   "metadata": {
    "scrolled": true
   },
   "outputs": [
    {
     "name": "stderr",
     "output_type": "stream",
     "text": [
      "/Users/hongseongmi/miniforge3/envs/ds_study/lib/python3.8/site-packages/sklearn/base.py:445: UserWarning: X does not have valid feature names, but StandardScaler was fitted with feature names\n",
      "  warnings.warn(\n",
      "/Users/hongseongmi/miniforge3/envs/ds_study/lib/python3.8/site-packages/sklearn/base.py:445: UserWarning: X does not have valid feature names, but StandardScaler was fitted with feature names\n",
      "  warnings.warn(\n"
     ]
    },
    {
     "data": {
      "text/plain": [
       "array([0, 1, 0, ..., 0, 0, 1])"
      ]
     },
     "execution_count": 121,
     "metadata": {},
     "output_type": "execute_result"
    }
   ],
   "source": [
    "best_df_clf = best_model.best_estimator_\n",
    "pred_prb =best_df_clf.predict_proba(sc_test)\n",
    "pred_test = best_df_clf.predict(sc_test)\n",
    "\n",
    "pred_test"
   ]
  },
  {
   "cell_type": "code",
   "execution_count": 122,
   "id": "807f2c5d",
   "metadata": {},
   "outputs": [
    {
     "data": {
      "text/html": [
       "<div>\n",
       "<style scoped>\n",
       "    .dataframe tbody tr th:only-of-type {\n",
       "        vertical-align: middle;\n",
       "    }\n",
       "\n",
       "    .dataframe tbody tr th {\n",
       "        vertical-align: top;\n",
       "    }\n",
       "\n",
       "    .dataframe thead th {\n",
       "        text-align: right;\n",
       "    }\n",
       "</style>\n",
       "<table border=\"1\" class=\"dataframe\">\n",
       "  <thead>\n",
       "    <tr style=\"text-align: right;\">\n",
       "      <th></th>\n",
       "      <th>MNTN_CODE</th>\n",
       "      <th>MNTN_NM</th>\n",
       "      <th>MNTN_LOC</th>\n",
       "      <th>MNTN_HEIGHT</th>\n",
       "      <th>ROAD_EASY</th>\n",
       "      <th>ROAD_MID</th>\n",
       "      <th>ROAD_DIFF</th>\n",
       "      <th>ROAD_SUM</th>\n",
       "      <th>MNTN_RES</th>\n",
       "      <th>Sel_Cos</th>\n",
       "      <th>Raw_Cos</th>\n",
       "      <th>class</th>\n",
       "      <th>prob</th>\n",
       "    </tr>\n",
       "  </thead>\n",
       "  <tbody>\n",
       "    <tr>\n",
       "      <th>0</th>\n",
       "      <td>301100101</td>\n",
       "      <td>강바위산</td>\n",
       "      <td>NaN</td>\n",
       "      <td>382</td>\n",
       "      <td>4.42</td>\n",
       "      <td>0.00</td>\n",
       "      <td>0.0</td>\n",
       "      <td>4.42</td>\n",
       "      <td>[]</td>\n",
       "      <td>0.000000</td>\n",
       "      <td>0.000000</td>\n",
       "      <td>0</td>\n",
       "      <td>[0.999176, 0.0008239826]</td>\n",
       "    </tr>\n",
       "    <tr>\n",
       "      <th>1</th>\n",
       "      <td>441801501</td>\n",
       "      <td>양각산</td>\n",
       "      <td>경상남도 거창군 웅양면 산포리</td>\n",
       "      <td>1158</td>\n",
       "      <td>35.54</td>\n",
       "      <td>0.99</td>\n",
       "      <td>0.0</td>\n",
       "      <td>36.53</td>\n",
       "      <td>&lt;item&gt;&lt;crcmrsghtngetcimageseq&gt;http://www.fores...</td>\n",
       "      <td>0.722315</td>\n",
       "      <td>0.170821</td>\n",
       "      <td>1</td>\n",
       "      <td>[0.022274494, 0.9777255]</td>\n",
       "    </tr>\n",
       "    <tr>\n",
       "      <th>2</th>\n",
       "      <td>457302401</td>\n",
       "      <td>박석산</td>\n",
       "      <td>NaN</td>\n",
       "      <td>595</td>\n",
       "      <td>10.52</td>\n",
       "      <td>0.00</td>\n",
       "      <td>0.0</td>\n",
       "      <td>10.52</td>\n",
       "      <td>[]</td>\n",
       "      <td>0.000000</td>\n",
       "      <td>0.000000</td>\n",
       "      <td>0</td>\n",
       "      <td>[0.999176, 0.0008239826]</td>\n",
       "    </tr>\n",
       "    <tr>\n",
       "      <th>3</th>\n",
       "      <td>481700701</td>\n",
       "      <td>망진산</td>\n",
       "      <td>경상남도 진주시</td>\n",
       "      <td>172</td>\n",
       "      <td>10.72</td>\n",
       "      <td>0.00</td>\n",
       "      <td>0.0</td>\n",
       "      <td>10.72</td>\n",
       "      <td>&lt;item&gt;&lt;crcmrsghtngetcimageseq&gt;http://www.fores...</td>\n",
       "      <td>0.361158</td>\n",
       "      <td>0.140784</td>\n",
       "      <td>1</td>\n",
       "      <td>[0.27123058, 0.7287694]</td>\n",
       "    </tr>\n",
       "    <tr>\n",
       "      <th>4</th>\n",
       "      <td>421101701</td>\n",
       "      <td>마적산</td>\n",
       "      <td>강원도 춘천시 신북읍, 북산면</td>\n",
       "      <td>610</td>\n",
       "      <td>25.55</td>\n",
       "      <td>1.16</td>\n",
       "      <td>0.0</td>\n",
       "      <td>26.71</td>\n",
       "      <td>&lt;item&gt;&lt;crcmrsghtngetcimageseq&gt;http://www.fores...</td>\n",
       "      <td>0.589768</td>\n",
       "      <td>0.113342</td>\n",
       "      <td>1</td>\n",
       "      <td>[0.022274494, 0.9777255]</td>\n",
       "    </tr>\n",
       "    <tr>\n",
       "      <th>...</th>\n",
       "      <td>...</td>\n",
       "      <td>...</td>\n",
       "      <td>...</td>\n",
       "      <td>...</td>\n",
       "      <td>...</td>\n",
       "      <td>...</td>\n",
       "      <td>...</td>\n",
       "      <td>...</td>\n",
       "      <td>...</td>\n",
       "      <td>...</td>\n",
       "      <td>...</td>\n",
       "      <td>...</td>\n",
       "      <td>...</td>\n",
       "    </tr>\n",
       "    <tr>\n",
       "      <th>998</th>\n",
       "      <td>461100701</td>\n",
       "      <td>양을산</td>\n",
       "      <td>전라남도 목포</td>\n",
       "      <td>151</td>\n",
       "      <td>9.48</td>\n",
       "      <td>0.00</td>\n",
       "      <td>0.0</td>\n",
       "      <td>9.48</td>\n",
       "      <td>&lt;item&gt;&lt;crcmrsghtngetcimageseq&gt;http://www.fores...</td>\n",
       "      <td>0.000000</td>\n",
       "      <td>0.027094</td>\n",
       "      <td>0</td>\n",
       "      <td>[0.999176, 0.0008239826]</td>\n",
       "    </tr>\n",
       "    <tr>\n",
       "      <th>999</th>\n",
       "      <td>441502801</td>\n",
       "      <td>월성산</td>\n",
       "      <td>NaN</td>\n",
       "      <td>312</td>\n",
       "      <td>15.51</td>\n",
       "      <td>0.08</td>\n",
       "      <td>0.0</td>\n",
       "      <td>15.59</td>\n",
       "      <td>[]</td>\n",
       "      <td>0.000000</td>\n",
       "      <td>0.000000</td>\n",
       "      <td>0</td>\n",
       "      <td>[0.999176, 0.0008239826]</td>\n",
       "    </tr>\n",
       "    <tr>\n",
       "      <th>1000</th>\n",
       "      <td>418200601</td>\n",
       "      <td>고동산</td>\n",
       "      <td>경기도 가평군 설악면, 양평군 서종면</td>\n",
       "      <td>600</td>\n",
       "      <td>23.41</td>\n",
       "      <td>0.00</td>\n",
       "      <td>0.0</td>\n",
       "      <td>23.41</td>\n",
       "      <td>&lt;item&gt;&lt;crcmrsghtngetcimageseq&gt;http://www.fores...</td>\n",
       "      <td>0.294884</td>\n",
       "      <td>0.069076</td>\n",
       "      <td>0</td>\n",
       "      <td>[0.7724775, 0.22752248]</td>\n",
       "    </tr>\n",
       "    <tr>\n",
       "      <th>1001</th>\n",
       "      <td>488700401</td>\n",
       "      <td>금대산</td>\n",
       "      <td>NaN</td>\n",
       "      <td>89</td>\n",
       "      <td>2.60</td>\n",
       "      <td>0.00</td>\n",
       "      <td>0.0</td>\n",
       "      <td>2.60</td>\n",
       "      <td>[]</td>\n",
       "      <td>0.000000</td>\n",
       "      <td>0.000000</td>\n",
       "      <td>0</td>\n",
       "      <td>[0.999176, 0.0008239826]</td>\n",
       "    </tr>\n",
       "    <tr>\n",
       "      <th>1002</th>\n",
       "      <td>482703301</td>\n",
       "      <td>옥교산</td>\n",
       "      <td>경상남도 밀양시 상동면 안인리</td>\n",
       "      <td>538</td>\n",
       "      <td>25.88</td>\n",
       "      <td>0.00</td>\n",
       "      <td>0.0</td>\n",
       "      <td>25.88</td>\n",
       "      <td>&lt;item&gt;&lt;crcmrsghtngetcimageseq&gt;http://www.fores...</td>\n",
       "      <td>0.361158</td>\n",
       "      <td>0.093856</td>\n",
       "      <td>1</td>\n",
       "      <td>[0.27123058, 0.7287694]</td>\n",
       "    </tr>\n",
       "  </tbody>\n",
       "</table>\n",
       "<p>1003 rows × 13 columns</p>\n",
       "</div>"
      ],
      "text/plain": [
       "      MNTN_CODE MNTN_NM              MNTN_LOC MNTN_HEIGHT  ROAD_EASY  \\\n",
       "0     301100101    강바위산                   NaN         382       4.42   \n",
       "1     441801501     양각산      경상남도 거창군 웅양면 산포리        1158      35.54   \n",
       "2     457302401     박석산                   NaN         595      10.52   \n",
       "3     481700701     망진산              경상남도 진주시         172      10.72   \n",
       "4     421101701     마적산      강원도 춘천시 신북읍, 북산면         610      25.55   \n",
       "...         ...     ...                   ...         ...        ...   \n",
       "998   461100701     양을산               전라남도 목포         151       9.48   \n",
       "999   441502801     월성산                   NaN         312      15.51   \n",
       "1000  418200601     고동산  경기도 가평군 설악면, 양평군 서종면         600      23.41   \n",
       "1001  488700401     금대산                   NaN          89       2.60   \n",
       "1002  482703301     옥교산      경상남도 밀양시 상동면 안인리         538      25.88   \n",
       "\n",
       "      ROAD_MID  ROAD_DIFF  ROAD_SUM  \\\n",
       "0         0.00        0.0      4.42   \n",
       "1         0.99        0.0     36.53   \n",
       "2         0.00        0.0     10.52   \n",
       "3         0.00        0.0     10.72   \n",
       "4         1.16        0.0     26.71   \n",
       "...        ...        ...       ...   \n",
       "998       0.00        0.0      9.48   \n",
       "999       0.08        0.0     15.59   \n",
       "1000      0.00        0.0     23.41   \n",
       "1001      0.00        0.0      2.60   \n",
       "1002      0.00        0.0     25.88   \n",
       "\n",
       "                                               MNTN_RES   Sel_Cos   Raw_Cos  \\\n",
       "0                                                    []  0.000000  0.000000   \n",
       "1     <item><crcmrsghtngetcimageseq>http://www.fores...  0.722315  0.170821   \n",
       "2                                                    []  0.000000  0.000000   \n",
       "3     <item><crcmrsghtngetcimageseq>http://www.fores...  0.361158  0.140784   \n",
       "4     <item><crcmrsghtngetcimageseq>http://www.fores...  0.589768  0.113342   \n",
       "...                                                 ...       ...       ...   \n",
       "998   <item><crcmrsghtngetcimageseq>http://www.fores...  0.000000  0.027094   \n",
       "999                                                  []  0.000000  0.000000   \n",
       "1000  <item><crcmrsghtngetcimageseq>http://www.fores...  0.294884  0.069076   \n",
       "1001                                                 []  0.000000  0.000000   \n",
       "1002  <item><crcmrsghtngetcimageseq>http://www.fores...  0.361158  0.093856   \n",
       "\n",
       "      class                      prob  \n",
       "0         0  [0.999176, 0.0008239826]  \n",
       "1         1  [0.022274494, 0.9777255]  \n",
       "2         0  [0.999176, 0.0008239826]  \n",
       "3         1   [0.27123058, 0.7287694]  \n",
       "4         1  [0.022274494, 0.9777255]  \n",
       "...     ...                       ...  \n",
       "998       0  [0.999176, 0.0008239826]  \n",
       "999       0  [0.999176, 0.0008239826]  \n",
       "1000      0   [0.7724775, 0.22752248]  \n",
       "1001      0  [0.999176, 0.0008239826]  \n",
       "1002      1   [0.27123058, 0.7287694]  \n",
       "\n",
       "[1003 rows x 13 columns]"
      ]
     },
     "execution_count": 122,
     "metadata": {},
     "output_type": "execute_result"
    }
   ],
   "source": [
    "test_rob = MT_tt\n",
    "test_rob['class'] = list(pred_test)\n",
    "test_rob['prob'] = list(pred_prb)\n",
    "test_rob"
   ]
  },
  {
   "cell_type": "code",
   "execution_count": 123,
   "id": "5d23f010",
   "metadata": {},
   "outputs": [],
   "source": [
    "prob0 = []\n",
    "prob1 = []\n",
    "for prob in list(pred_prb):\n",
    "    prob0.append(prob[0])\n",
    "    prob1.append(prob[1])"
   ]
  },
  {
   "cell_type": "code",
   "execution_count": 124,
   "id": "454e3273",
   "metadata": {},
   "outputs": [
    {
     "data": {
      "text/plain": [
       "520"
      ]
     },
     "execution_count": 124,
     "metadata": {},
     "output_type": "execute_result"
    }
   ],
   "source": [
    "len(list(test_rob[test_rob['class'] == 1]['MNTN_NM'].values))"
   ]
  },
  {
   "cell_type": "code",
   "execution_count": 125,
   "id": "1db8469d",
   "metadata": {
    "scrolled": true
   },
   "outputs": [
    {
     "data": {
      "text/plain": [
       "(58,\n",
       " ['기백산',\n",
       "  '유학산',\n",
       "  '백화산',\n",
       "  '노추산',\n",
       "  '거류산',\n",
       "  '만덕산',\n",
       "  '병풍산',\n",
       "  '민둥산',\n",
       "  '와룡산',\n",
       "  '구봉대산',\n",
       "  '비계산',\n",
       "  '단석산',\n",
       "  '월봉산',\n",
       "  '불곡산',\n",
       "  '아미산',\n",
       "  '석화산',\n",
       "  '무척산',\n",
       "  '화야산',\n",
       "  '금강산',\n",
       "  '중원산',\n",
       "  '초암산',\n",
       "  '흑석산',\n",
       "  '주금산',\n",
       "  '백아산',\n",
       "  '마대산',\n",
       "  '일월산',\n",
       "  '종자산',\n",
       "  '갑장산',\n",
       "  '천등산',\n",
       "  '제암산',\n",
       "  '사명산',\n",
       "  '도장산',\n",
       "  '승학산',\n",
       "  '팔각산',\n",
       "  '신어산',\n",
       "  '금학산',\n",
       "  '진악산',\n",
       "  '회문산',\n",
       "  '영취산',\n",
       "  '운무산',\n",
       "  '갑하산',\n",
       "  '가은산',\n",
       "  '토함산',\n",
       "  '광교산',\n",
       "  '검단산',\n",
       "  '우두산',\n",
       "  '고덕산',\n",
       "  '갑장산',\n",
       "  '계족산',\n",
       "  '굴암산',\n",
       "  '갈기산',\n",
       "  '고려산',\n",
       "  '식장산',\n",
       "  '벽방산',\n",
       "  '모후산',\n",
       "  '구봉대산',\n",
       "  '흑성산',\n",
       "  '장복산'])"
      ]
     },
     "execution_count": 125,
     "metadata": {},
     "output_type": "execute_result"
    }
   ],
   "source": [
    "cnt = 0\n",
    "plus2good = []\n",
    "\n",
    "for i in range(520):\n",
    "    if list(test_rob[test_rob['class'] == 1]['MNTN_NM'])[i] in list(plus_100['name']):\n",
    "        cnt += 1\n",
    "        plus2good.append(list(test_rob[test_rob['class'] == 1]['MNTN_NM'])[i])\n",
    "cnt, plus2good"
   ]
  },
  {
   "cell_type": "code",
   "execution_count": 107,
   "id": "c1c970df",
   "metadata": {},
   "outputs": [
    {
     "data": {
      "text/plain": [
       "1       양각산\n",
       "3       망진산\n",
       "4       마적산\n",
       "6       이방산\n",
       "7       함백산\n",
       "       ... \n",
       "991     달음산\n",
       "993     장복산\n",
       "994     적석산\n",
       "996     소리산\n",
       "1002    옥교산\n",
       "Name: MNTN_NM, Length: 520, dtype: object"
      ]
     },
     "execution_count": 107,
     "metadata": {},
     "output_type": "execute_result"
    }
   ],
   "source": [
    "test_rob[test_rob['class'] == 1]['MNTN_NM']"
   ]
  },
  {
   "cell_type": "code",
   "execution_count": 108,
   "id": "8b0ee7c0",
   "metadata": {},
   "outputs": [
    {
     "data": {
      "text/plain": [
       "[27, 116, 92, 138, 46]"
      ]
     },
     "execution_count": 108,
     "metadata": {},
     "output_type": "execute_result"
    }
   ],
   "source": [
    "import random\n",
    "\n",
    "rand_ch = [0] * 5\n",
    "for i in range(5):\n",
    "    num = random.randrange(153)\n",
    "    rand_ch[i] = num\n",
    "rand_ch"
   ]
  },
  {
   "cell_type": "code",
   "execution_count": 109,
   "id": "a5b16aa7",
   "metadata": {},
   "outputs": [
    {
     "name": "stdout",
     "output_type": "stream",
     "text": [
      "월이산\n",
      "지각산\n",
      "발왕산\n",
      "단석산\n",
      "목우산\n"
     ]
    }
   ],
   "source": [
    "for idx in rand_ch:\n",
    "    print(list(test_rob[test_rob['class'] == 1]['MNTN_NM'].values)[idx])"
   ]
  },
  {
   "cell_type": "code",
   "execution_count": 110,
   "id": "3c348603",
   "metadata": {},
   "outputs": [
    {
     "data": {
      "text/plain": [
       "483"
      ]
     },
     "execution_count": 110,
     "metadata": {},
     "output_type": "execute_result"
    }
   ],
   "source": [
    "len(list(test_rob[test_rob['class'] == 0]['MNTN_NM']))"
   ]
  },
  {
   "cell_type": "code",
   "execution_count": 114,
   "id": "90d78d47",
   "metadata": {},
   "outputs": [
    {
     "data": {
      "text/plain": [
       "(2, ['대봉산', '수도산'])"
      ]
     },
     "execution_count": 114,
     "metadata": {},
     "output_type": "execute_result"
    }
   ],
   "source": [
    "cnt = 0\n",
    "plus2bad = []\n",
    "\n",
    "for i in range(483):\n",
    "    if list(test_rob[test_rob['class'] == 0]['MNTN_NM'])[i] in list(plus_100['name']):\n",
    "        cnt += 1\n",
    "        plus2bad.append(list(test_rob[test_rob['class'] == 0]['MNTN_NM'])[i])\n",
    "cnt, plus2bad"
   ]
  },
  {
   "cell_type": "code",
   "execution_count": 111,
   "id": "559f0db6",
   "metadata": {},
   "outputs": [
    {
     "data": {
      "image/png": "[encoded data removed]",
      "text/plain": [
       "<Figure size 432x288 with 1 Axes>"
      ]
     },
     "metadata": {
      "needs_background": "light"
     },
     "output_type": "display_data"
    }
   ],
   "source": [
    "plt.hist(prob0)\n",
    "# plt.hist(prob1)\n",
    "plt.show()"
   ]
  },
  {
   "cell_type": "code",
   "execution_count": null,
   "id": "fd5a2818",
   "metadata": {},
   "outputs": [],
   "source": []
  }
 ],
 "metadata": {
  "kernelspec": {
   "display_name": "Python 3.8.12 64-bit ('ds_study': conda)",
   "language": "python",
   "name": "python3812jvsc74a57bd06dc53b85653b0502469b076a8681b80e66d787eb3b81c4b115b007e1f334af24"
  },
  "language_info": {
   "codemirror_mode": {
    "name": "ipython",
    "version": 3
   },
   "file_extension": ".py",
   "mimetype": "text/x-python",
   "name": "python",
   "nbconvert_exporter": "python",
   "pygments_lexer": "ipython3",
   "version": "3.8.12"
  }
 },
 "nbformat": 4,
 "nbformat_minor": 5
}
